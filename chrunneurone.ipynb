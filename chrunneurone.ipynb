{
  "nbformat": 4,
  "nbformat_minor": 0,
  "metadata": {
    "colab": {
      "name": "chrunneurone.ipynb",
      "provenance": []
    },
    "kernelspec": {
      "name": "python3",
      "display_name": "Python 3"
    },
    "accelerator": "TPU"
  },
  "cells": [
    {
      "cell_type": "code",
      "metadata": {
        "id": "gAZLQvp7QtBa",
        "colab_type": "code",
        "colab": {}
      },
      "source": [
        "from google.colab import drive"
      ],
      "execution_count": 0,
      "outputs": []
    },
    {
      "cell_type": "code",
      "metadata": {
        "id": "BmvzRTPRQy24",
        "colab_type": "code",
        "outputId": "99b83463-ddbb-4c3d-8a55-da56490f7f84",
        "colab": {
          "base_uri": "https://localhost:8080/",
          "height": 34
        }
      },
      "source": [
        "drive.mount(\"/content/gdrive\")"
      ],
      "execution_count": 0,
      "outputs": [
        {
          "output_type": "stream",
          "text": [
            "Drive already mounted at /content/gdrive; to attempt to forcibly remount, call drive.mount(\"/content/gdrive\", force_remount=True).\n"
          ],
          "name": "stdout"
        }
      ]
    },
    {
      "cell_type": "code",
      "metadata": {
        "id": "sFGY2vtJQzCs",
        "colab_type": "code",
        "outputId": "fe3b7991-a8cb-4dcd-c394-6193a889c61a",
        "colab": {
          "base_uri": "https://localhost:8080/",
          "height": 34
        }
      },
      "source": [
        "!ls \"gdrive/My Drive/Colab Notebooks\""
      ],
      "execution_count": 0,
      "outputs": [
        {
          "output_type": "stream",
          "text": [
            "Churn_Modelling.csv  Untitled0.ipynb\n"
          ],
          "name": "stdout"
        }
      ]
    },
    {
      "cell_type": "code",
      "metadata": {
        "id": "ccVtU546QzFu",
        "colab_type": "code",
        "outputId": "7d88533e-749b-4518-eae1-a8293074715d",
        "colab": {
          "base_uri": "https://localhost:8080/",
          "height": 34
        }
      },
      "source": [
        "import pandas as pd\n",
        "import numpy as np\n",
        "import matplotlib.pyplot as plt\n",
        "%matplotlib"
      ],
      "execution_count": 0,
      "outputs": [
        {
          "output_type": "stream",
          "text": [
            "Using matplotlib backend: agg\n"
          ],
          "name": "stdout"
        }
      ]
    },
    {
      "cell_type": "code",
      "metadata": {
        "id": "htuB2ZFxQzIk",
        "colab_type": "code",
        "colab": {}
      },
      "source": [
        "data= pd.read_csv(\"gdrive/My Drive/Colab Notebooks/Churn_Modelling.csv\")"
      ],
      "execution_count": 0,
      "outputs": []
    },
    {
      "cell_type": "code",
      "metadata": {
        "id": "63NS__yPQzLS",
        "colab_type": "code",
        "outputId": "a020d3e9-3f8f-484f-b806-1784d4e8e432",
        "colab": {
          "base_uri": "https://localhost:8080/",
          "height": 85
        }
      },
      "source": [
        "data.columns"
      ],
      "execution_count": 0,
      "outputs": [
        {
          "output_type": "execute_result",
          "data": {
            "text/plain": [
              "Index(['RowNumber', 'CustomerId', 'Surname', 'CreditScore', 'Geography',\n",
              "       'Gender', 'Age', 'Tenure', 'Balance', 'NumOfProducts', 'HasCrCard',\n",
              "       'IsActiveMember', 'EstimatedSalary', 'Exited'],\n",
              "      dtype='object')"
            ]
          },
          "metadata": {
            "tags": []
          },
          "execution_count": 50
        }
      ]
    },
    {
      "cell_type": "code",
      "metadata": {
        "id": "S0rsSs2eQzON",
        "colab_type": "code",
        "colab": {}
      },
      "source": [
        "pd.plotting.scatter_matrix(data,figsize=(10,10));"
      ],
      "execution_count": 0,
      "outputs": []
    },
    {
      "cell_type": "code",
      "metadata": {
        "id": "E5wIHMxOQzRP",
        "colab_type": "code",
        "outputId": "d4080467-93c8-43c2-f54f-639a3958bb46",
        "colab": {
          "base_uri": "https://localhost:8080/",
          "height": 85
        }
      },
      "source": [
        "data.columns"
      ],
      "execution_count": 0,
      "outputs": [
        {
          "output_type": "execute_result",
          "data": {
            "text/plain": [
              "Index(['RowNumber', 'CustomerId', 'Surname', 'CreditScore', 'Geography',\n",
              "       'Gender', 'Age', 'Tenure', 'Balance', 'NumOfProducts', 'HasCrCard',\n",
              "       'IsActiveMember', 'EstimatedSalary', 'Exited'],\n",
              "      dtype='object')"
            ]
          },
          "metadata": {
            "tags": []
          },
          "execution_count": 52
        }
      ]
    },
    {
      "cell_type": "code",
      "metadata": {
        "id": "7GiW2ZdEQzT_",
        "colab_type": "code",
        "outputId": "fa76e911-a32d-4089-cad5-38cee8903448",
        "colab": {
          "base_uri": "https://localhost:8080/",
          "height": 34
        }
      },
      "source": [
        "data.index"
      ],
      "execution_count": 0,
      "outputs": [
        {
          "output_type": "execute_result",
          "data": {
            "text/plain": [
              "RangeIndex(start=0, stop=10000, step=1)"
            ]
          },
          "metadata": {
            "tags": []
          },
          "execution_count": 53
        }
      ]
    },
    {
      "cell_type": "code",
      "metadata": {
        "id": "wuwTvFi2QzWm",
        "colab_type": "code",
        "outputId": "034a5019-ab08-4bb1-d454-1aacb2c8f11e",
        "colab": {
          "base_uri": "https://localhost:8080/",
          "height": 136
        }
      },
      "source": [
        "data.values"
      ],
      "execution_count": 0,
      "outputs": [
        {
          "output_type": "execute_result",
          "data": {
            "text/plain": [
              "array([[1, 15634602, 'Hargrave', ..., 1, 101348.88, 1],\n",
              "       [2, 15647311, 'Hill', ..., 1, 112542.58, 0],\n",
              "       [3, 15619304, 'Onio', ..., 0, 113931.57, 1],\n",
              "       ...,\n",
              "       [9998, 15584532, 'Liu', ..., 1, 42085.58, 1],\n",
              "       [9999, 15682355, 'Sabbatini', ..., 0, 92888.52, 1],\n",
              "       [10000, 15628319, 'Walker', ..., 0, 38190.78, 0]], dtype=object)"
            ]
          },
          "metadata": {
            "tags": []
          },
          "execution_count": 54
        }
      ]
    },
    {
      "cell_type": "code",
      "metadata": {
        "id": "ENRp7gL4YDnr",
        "colab_type": "code",
        "colab": {}
      },
      "source": [
        "df = data"
      ],
      "execution_count": 0,
      "outputs": []
    },
    {
      "cell_type": "code",
      "metadata": {
        "id": "yPMx7uiZYEIT",
        "colab_type": "code",
        "outputId": "cf40c876-65cc-40ea-87c1-14ab0c111b1d",
        "colab": {
          "base_uri": "https://localhost:8080/",
          "height": 595
        }
      },
      "source": [
        "# here we give same useful pandas commands to understand the data\n",
        "print(\"______The first 5 rows are______\")\n",
        "print(df.head(5))\n",
        "\n",
        "# If it is too long, use instead\n",
        "print(df.head(5).T)\n",
        "\n",
        "print(\"______The last 5 rows are______\")\n",
        "print(df.tail(5))\n",
        "\n",
        "# Here just put the command inside a print\n",
        "df.columns\n",
        "df.index\n",
        "df.shape\n"
      ],
      "execution_count": 0,
      "outputs": [
        {
          "output_type": "stream",
          "text": [
            "______The first 5 rows are______\n",
            "   RowNumber  CustomerId   Surname  ...  IsActiveMember EstimatedSalary Exited\n",
            "0          1    15634602  Hargrave  ...               1       101348.88      1\n",
            "1          2    15647311      Hill  ...               1       112542.58      0\n",
            "2          3    15619304      Onio  ...               0       113931.57      1\n",
            "3          4    15701354      Boni  ...               0        93826.63      0\n",
            "4          5    15737888  Mitchell  ...               1        79084.10      0\n",
            "\n",
            "[5 rows x 14 columns]\n",
            "                        0         1         2         3         4\n",
            "RowNumber               1         2         3         4         5\n",
            "CustomerId       15634602  15647311  15619304  15701354  15737888\n",
            "Surname          Hargrave      Hill      Onio      Boni  Mitchell\n",
            "CreditScore           619       608       502       699       850\n",
            "Geography          France     Spain    France    France     Spain\n",
            "Gender             Female    Female    Female    Female    Female\n",
            "Age                    42        41        42        39        43\n",
            "Tenure                  2         1         8         1         2\n",
            "Balance                 0   83807.9    159661         0    125511\n",
            "NumOfProducts           1         1         3         2         1\n",
            "HasCrCard               1         0         1         0         1\n",
            "IsActiveMember          1         1         0         0         1\n",
            "EstimatedSalary    101349    112543    113932   93826.6   79084.1\n",
            "Exited                  1         0         1         0         0\n",
            "______The last 5 rows are______\n",
            "      RowNumber  CustomerId    Surname  ...  IsActiveMember EstimatedSalary Exited\n",
            "9995       9996    15606229   Obijiaku  ...               0        96270.64      0\n",
            "9996       9997    15569892  Johnstone  ...               1       101699.77      0\n",
            "9997       9998    15584532        Liu  ...               1        42085.58      1\n",
            "9998       9999    15682355  Sabbatini  ...               0        92888.52      1\n",
            "9999      10000    15628319     Walker  ...               0        38190.78      0\n",
            "\n",
            "[5 rows x 14 columns]\n"
          ],
          "name": "stdout"
        },
        {
          "output_type": "execute_result",
          "data": {
            "text/plain": [
              "(10000, 14)"
            ]
          },
          "metadata": {
            "tags": []
          },
          "execution_count": 56
        }
      ]
    },
    {
      "cell_type": "code",
      "metadata": {
        "id": "UaDpURzoYELB",
        "colab_type": "code",
        "colab": {}
      },
      "source": [
        "X = df.iloc[:,3:13].values"
      ],
      "execution_count": 0,
      "outputs": []
    },
    {
      "cell_type": "code",
      "metadata": {
        "id": "v4TzD3pEYEOM",
        "colab_type": "code",
        "colab": {}
      },
      "source": [
        "y = df.iloc[:,13].values"
      ],
      "execution_count": 0,
      "outputs": []
    },
    {
      "cell_type": "code",
      "metadata": {
        "id": "Jd52GfBbYERe",
        "colab_type": "code",
        "colab": {}
      },
      "source": [
        "from sklearn.preprocessing import LabelEncoder\n",
        "\n",
        "label_encode_geography = LabelEncoder() \n",
        "label_encode_gender = LabelEncoder()\n",
        "\n",
        "\n",
        "X[:,1] = label_encode_geography.fit_transform(X[:,1])\n",
        "X[:,2] = label_encode_gender.fit_transform(X[:,2])"
      ],
      "execution_count": 0,
      "outputs": []
    },
    {
      "cell_type": "code",
      "metadata": {
        "id": "qBSL30z3YET0",
        "colab_type": "code",
        "outputId": "c4af009c-0d2e-48f8-f950-72dcf8dbff21",
        "colab": {
          "base_uri": "https://localhost:8080/",
          "height": 139
        }
      },
      "source": [
        "from sklearn.preprocessing import OneHotEncoder\n",
        "onehotencoder = OneHotEncoder(categorical_features=[1])\n",
        "X = onehotencoder.fit_transform(X).toarray()"
      ],
      "execution_count": 0,
      "outputs": [
        {
          "output_type": "stream",
          "text": [
            "/usr/local/lib/python3.6/dist-packages/sklearn/preprocessing/_encoders.py:415: FutureWarning: The handling of integer data will change in version 0.22. Currently, the categories are determined based on the range [0, max(values)], while in the future they will be determined based on the unique values.\n",
            "If you want the future behaviour and silence this warning, you can specify \"categories='auto'\".\n",
            "In case you used a LabelEncoder before this OneHotEncoder to convert the categories to integers, then you can now use the OneHotEncoder directly.\n",
            "  warnings.warn(msg, FutureWarning)\n",
            "/usr/local/lib/python3.6/dist-packages/sklearn/preprocessing/_encoders.py:451: DeprecationWarning: The 'categorical_features' keyword is deprecated in version 0.20 and will be removed in 0.22. You can use the ColumnTransformer instead.\n",
            "  \"use the ColumnTransformer instead.\", DeprecationWarning)\n"
          ],
          "name": "stderr"
        }
      ]
    },
    {
      "cell_type": "code",
      "metadata": {
        "id": "NGYypm44YWVq",
        "colab_type": "code",
        "colab": {}
      },
      "source": [
        "X = X[:,1:]"
      ],
      "execution_count": 0,
      "outputs": []
    },
    {
      "cell_type": "code",
      "metadata": {
        "id": "crIRjes_YYO0",
        "colab_type": "code",
        "colab": {}
      },
      "source": [
        "# Now, we split our data into training data and testing data\n",
        "# Here we use the train test split technic\n",
        "\n",
        "from sklearn.model_selection import train_test_split\n",
        "X_train, X_test, y_train, y_test = train_test_split(X,y,test_size=0.2,random_state=42)\n",
        "\n",
        "\n",
        "# Feature Scaling using the mean and the standard deviation\n",
        "from sklearn.preprocessing import StandardScaler\n",
        "ss = StandardScaler()\n",
        "X_train = ss.fit_transform(X_train)\n",
        "X_test = ss.transform(X_test)"
      ],
      "execution_count": 0,
      "outputs": []
    },
    {
      "cell_type": "code",
      "metadata": {
        "id": "kHy0yrhhYbRj",
        "colab_type": "code",
        "outputId": "673906e3-ac2e-423a-8bf8-40fa2a5f4d10",
        "colab": {
          "base_uri": "https://localhost:8080/",
          "height": 85
        }
      },
      "source": [
        "from sklearn.linear_model import LogisticRegression\n",
        "model2 = LogisticRegression()\n",
        "model2.fit(X_train, y_train)\n",
        "y_pred = model2.predict(X_test)\n",
        "from sklearn.metrics import confusion_matrix\n",
        "cm2 = confusion_matrix(y_test, y_pred)\n",
        "cm2"
      ],
      "execution_count": 0,
      "outputs": [
        {
          "output_type": "stream",
          "text": [
            "/usr/local/lib/python3.6/dist-packages/sklearn/linear_model/logistic.py:432: FutureWarning: Default solver will be changed to 'lbfgs' in 0.22. Specify a solver to silence this warning.\n",
            "  FutureWarning)\n"
          ],
          "name": "stderr"
        },
        {
          "output_type": "execute_result",
          "data": {
            "text/plain": [
              "array([[1543,   64],\n",
              "       [ 314,   79]])"
            ]
          },
          "metadata": {
            "tags": []
          },
          "execution_count": 63
        }
      ]
    },
    {
      "cell_type": "code",
      "metadata": {
        "id": "pdSYCVyLYbUc",
        "colab_type": "code",
        "outputId": "e3d8089d-12bb-4dc2-8457-c49255928324",
        "colab": {
          "base_uri": "https://localhost:8080/",
          "height": 51
        }
      },
      "source": [
        "from sklearn.neighbors import KNeighborsClassifier\n",
        "model3 = KNeighborsClassifier(n_neighbors=5)\n",
        "model3.fit(X_train, y_train)\n",
        "y_pred = model3.predict(X_test)\n",
        "from sklearn.metrics import confusion_matrix\n",
        "cm3 = confusion_matrix(y_test, y_pred)\n",
        "cm3"
      ],
      "execution_count": 0,
      "outputs": [
        {
          "output_type": "execute_result",
          "data": {
            "text/plain": [
              "array([[1514,   93],\n",
              "       [ 247,  146]])"
            ]
          },
          "metadata": {
            "tags": []
          },
          "execution_count": 64
        }
      ]
    },
    {
      "cell_type": "code",
      "metadata": {
        "id": "0ZWYrt5NYbXq",
        "colab_type": "code",
        "outputId": "0cbacbb1-19c8-471a-de8b-7cae408485b6",
        "colab": {
          "base_uri": "https://localhost:8080/",
          "height": 85
        }
      },
      "source": [
        "from sklearn.ensemble import RandomForestClassifier\n",
        "model4 = RandomForestClassifier()\n",
        "model4.fit(X_train, y_train)\n",
        "y_pred = model4.predict(X_test)\n",
        "from sklearn.metrics import confusion_matrix\n",
        "cm4 = confusion_matrix(y_test, y_pred)\n",
        "cm4"
      ],
      "execution_count": 0,
      "outputs": [
        {
          "output_type": "stream",
          "text": [
            "/usr/local/lib/python3.6/dist-packages/sklearn/ensemble/forest.py:245: FutureWarning: The default value of n_estimators will change from 10 in version 0.20 to 100 in 0.22.\n",
            "  \"10 in version 0.20 to 100 in 0.22.\", FutureWarning)\n"
          ],
          "name": "stderr"
        },
        {
          "output_type": "execute_result",
          "data": {
            "text/plain": [
              "array([[1542,   65],\n",
              "       [ 222,  171]])"
            ]
          },
          "metadata": {
            "tags": []
          },
          "execution_count": 65
        }
      ]
    },
    {
      "cell_type": "code",
      "metadata": {
        "id": "QHNw79F9YpeP",
        "colab_type": "code",
        "colab": {}
      },
      "source": [
        "%tensorflow_version 1.x"
      ],
      "execution_count": 0,
      "outputs": []
    },
    {
      "cell_type": "code",
      "metadata": {
        "id": "aUE6I-IUYstm",
        "colab_type": "code",
        "colab": {}
      },
      "source": [
        "import keras\n",
        "from keras.models import Sequential\n",
        "from keras.layers import Dense"
      ],
      "execution_count": 0,
      "outputs": []
    },
    {
      "cell_type": "code",
      "metadata": {
        "id": "-huTbPD2Yw0V",
        "colab_type": "code",
        "outputId": "3a87ae68-d5ab-448f-a6f5-1c1e7b54a156",
        "colab": {
          "base_uri": "https://localhost:8080/",
          "height": 71
        }
      },
      "source": [
        "# Initialization of Sequential a linear stack of layers.\n",
        "classifier = Sequential()\n",
        "\n",
        "# An artificial neural neutworks contains an input layer\n",
        "# Adding the input layer and the first hidden layer\n",
        "classifier.add(Dense(output_dim = 6,\n",
        "                     init = 'uniform',\n",
        "                     activation = 'relu',\n",
        "                     input_dim = 11)\n",
        "                )\n",
        "\n"
      ],
      "execution_count": 0,
      "outputs": [
        {
          "output_type": "stream",
          "text": [
            "/usr/local/lib/python3.6/dist-packages/ipykernel_launcher.py:8: UserWarning: Update your `Dense` call to the Keras 2 API: `Dense(activation=\"relu\", input_dim=11, units=6, kernel_initializer=\"uniform\")`\n",
            "  \n"
          ],
          "name": "stderr"
        }
      ]
    },
    {
      "cell_type": "code",
      "metadata": {
        "id": "vskLEQD6aWGr",
        "colab_type": "code",
        "outputId": "0402953d-0edd-4b05-fec4-5e05ad195587",
        "colab": {
          "base_uri": "https://localhost:8080/",
          "height": 51
        }
      },
      "source": [
        "# Adding of the second hidden layer\n",
        "classifier.add(Dense(output_dim = 6,\n",
        "                     init = 'uniform',\n",
        "                     activation = 'relu')\n",
        "                )"
      ],
      "execution_count": 0,
      "outputs": [
        {
          "output_type": "stream",
          "text": [
            "/usr/local/lib/python3.6/dist-packages/ipykernel_launcher.py:3: UserWarning: Update your `Dense` call to the Keras 2 API: `Dense(activation=\"relu\", units=6, kernel_initializer=\"uniform\")`\n",
            "  This is separate from the ipykernel package so we can avoid doing imports until\n"
          ],
          "name": "stderr"
        }
      ]
    },
    {
      "cell_type": "code",
      "metadata": {
        "id": "q1HdmkYCboIN",
        "colab_type": "code",
        "outputId": "d72eba93-5945-4d85-d45c-7ca9c6b58151",
        "colab": {
          "base_uri": "https://localhost:8080/",
          "height": 51
        }
      },
      "source": [
        "# Adding of the third hidden layer\n",
        "classifier.add(Dense(output_dim = 6,\n",
        "                     init = 'uniform',\n",
        "                     activation = 'relu')\n",
        "                )"
      ],
      "execution_count": 0,
      "outputs": [
        {
          "output_type": "stream",
          "text": [
            "/usr/local/lib/python3.6/dist-packages/ipykernel_launcher.py:3: UserWarning: Update your `Dense` call to the Keras 2 API: `Dense(activation=\"relu\", units=6, kernel_initializer=\"uniform\")`\n",
            "  This is separate from the ipykernel package so we can avoid doing imports until\n"
          ],
          "name": "stderr"
        }
      ]
    },
    {
      "cell_type": "code",
      "metadata": {
        "id": "ndUMrxzOaWJy",
        "colab_type": "code",
        "outputId": "4863d19b-1bb8-46ef-e5a6-1c2cf2db8ba0",
        "colab": {
          "base_uri": "https://localhost:8080/",
          "height": 51
        }
      },
      "source": [
        "# Adding the output layer\n",
        "classifier.add(Dense(output_dim = 1,\n",
        "                     init = 'uniform',\n",
        "                     activation = 'sigmoid')\n",
        "                )"
      ],
      "execution_count": 0,
      "outputs": [
        {
          "output_type": "stream",
          "text": [
            "/usr/local/lib/python3.6/dist-packages/ipykernel_launcher.py:3: UserWarning: Update your `Dense` call to the Keras 2 API: `Dense(activation=\"sigmoid\", units=1, kernel_initializer=\"uniform\")`\n",
            "  This is separate from the ipykernel package so we can avoid doing imports until\n"
          ],
          "name": "stderr"
        }
      ]
    },
    {
      "cell_type": "code",
      "metadata": {
        "id": "S9dQlqYiaWNO",
        "colab_type": "code",
        "colab": {}
      },
      "source": [
        "# Compiling the ANN\n",
        "classifier.compile(optimizer='adam',\n",
        "                   loss='binary_crossentropy',\n",
        "                   metrics = ['accuracy']\n",
        "                   )"
      ],
      "execution_count": 0,
      "outputs": []
    },
    {
      "cell_type": "code",
      "metadata": {
        "id": "m405JYJPaWTZ",
        "colab_type": "code",
        "outputId": "49681a18-1488-40f0-acea-1c389f8bfdf7",
        "colab": {
          "base_uri": "https://localhost:8080/",
          "height": 1000
        }
      },
      "source": [
        "classifier.fit(X_train, y_train, batch_size=10, nb_epoch=100)"
      ],
      "execution_count": 0,
      "outputs": [
        {
          "output_type": "stream",
          "text": [
            "/usr/local/lib/python3.6/dist-packages/ipykernel_launcher.py:1: UserWarning: The `nb_epoch` argument in `fit` has been renamed `epochs`.\n",
            "  \"\"\"Entry point for launching an IPython kernel.\n"
          ],
          "name": "stderr"
        },
        {
          "output_type": "stream",
          "text": [
            "WARNING:tensorflow:From /usr/local/lib/python3.6/dist-packages/keras/backend/tensorflow_backend.py:1033: The name tf.assign_add is deprecated. Please use tf.compat.v1.assign_add instead.\n",
            "\n",
            "WARNING:tensorflow:From /usr/local/lib/python3.6/dist-packages/keras/backend/tensorflow_backend.py:1020: The name tf.assign is deprecated. Please use tf.compat.v1.assign instead.\n",
            "\n",
            "WARNING:tensorflow:From /usr/local/lib/python3.6/dist-packages/keras/backend/tensorflow_backend.py:3005: The name tf.Session is deprecated. Please use tf.compat.v1.Session instead.\n",
            "\n",
            "Epoch 1/100\n",
            "WARNING:tensorflow:From /usr/local/lib/python3.6/dist-packages/keras/backend/tensorflow_backend.py:190: The name tf.get_default_session is deprecated. Please use tf.compat.v1.get_default_session instead.\n",
            "\n",
            "WARNING:tensorflow:From /usr/local/lib/python3.6/dist-packages/keras/backend/tensorflow_backend.py:197: The name tf.ConfigProto is deprecated. Please use tf.compat.v1.ConfigProto instead.\n",
            "\n",
            "WARNING:tensorflow:From /usr/local/lib/python3.6/dist-packages/keras/backend/tensorflow_backend.py:207: The name tf.global_variables is deprecated. Please use tf.compat.v1.global_variables instead.\n",
            "\n",
            "WARNING:tensorflow:From /usr/local/lib/python3.6/dist-packages/keras/backend/tensorflow_backend.py:216: The name tf.is_variable_initialized is deprecated. Please use tf.compat.v1.is_variable_initialized instead.\n",
            "\n",
            "WARNING:tensorflow:From /usr/local/lib/python3.6/dist-packages/keras/backend/tensorflow_backend.py:223: The name tf.variables_initializer is deprecated. Please use tf.compat.v1.variables_initializer instead.\n",
            "\n",
            "8000/8000 [==============================] - 2s 235us/step - loss: 0.4805 - acc: 0.7945\n",
            "Epoch 2/100\n",
            "8000/8000 [==============================] - 1s 127us/step - loss: 0.4294 - acc: 0.7945\n",
            "Epoch 3/100\n",
            "8000/8000 [==============================] - 1s 136us/step - loss: 0.4222 - acc: 0.8160\n",
            "Epoch 4/100\n",
            "8000/8000 [==============================] - 1s 130us/step - loss: 0.4189 - acc: 0.8276\n",
            "Epoch 5/100\n",
            "8000/8000 [==============================] - 1s 126us/step - loss: 0.4172 - acc: 0.8310\n",
            "Epoch 6/100\n",
            "8000/8000 [==============================] - 1s 130us/step - loss: 0.4145 - acc: 0.8334\n",
            "Epoch 7/100\n",
            "8000/8000 [==============================] - 1s 126us/step - loss: 0.4141 - acc: 0.8341\n",
            "Epoch 8/100\n",
            "8000/8000 [==============================] - 1s 124us/step - loss: 0.4129 - acc: 0.8329\n",
            "Epoch 9/100\n",
            "8000/8000 [==============================] - 1s 123us/step - loss: 0.4113 - acc: 0.8332\n",
            "Epoch 10/100\n",
            "8000/8000 [==============================] - 1s 120us/step - loss: 0.4112 - acc: 0.8340\n",
            "Epoch 11/100\n",
            "8000/8000 [==============================] - 1s 122us/step - loss: 0.4102 - acc: 0.8330\n",
            "Epoch 12/100\n",
            "8000/8000 [==============================] - 1s 123us/step - loss: 0.4096 - acc: 0.8344\n",
            "Epoch 13/100\n",
            "8000/8000 [==============================] - 1s 126us/step - loss: 0.4092 - acc: 0.8327\n",
            "Epoch 14/100\n",
            "8000/8000 [==============================] - 1s 129us/step - loss: 0.4088 - acc: 0.8351\n",
            "Epoch 15/100\n",
            "8000/8000 [==============================] - 1s 124us/step - loss: 0.4078 - acc: 0.8357\n",
            "Epoch 16/100\n",
            "8000/8000 [==============================] - 1s 124us/step - loss: 0.4080 - acc: 0.8331\n",
            "Epoch 17/100\n",
            "8000/8000 [==============================] - 1s 125us/step - loss: 0.4076 - acc: 0.8345\n",
            "Epoch 18/100\n",
            "8000/8000 [==============================] - 1s 128us/step - loss: 0.4078 - acc: 0.8362\n",
            "Epoch 19/100\n",
            "8000/8000 [==============================] - 1s 127us/step - loss: 0.4068 - acc: 0.8346\n",
            "Epoch 20/100\n",
            "8000/8000 [==============================] - 1s 128us/step - loss: 0.4069 - acc: 0.8361\n",
            "Epoch 21/100\n",
            "8000/8000 [==============================] - 1s 131us/step - loss: 0.4073 - acc: 0.8322\n",
            "Epoch 22/100\n",
            "8000/8000 [==============================] - 1s 124us/step - loss: 0.4067 - acc: 0.8340\n",
            "Epoch 23/100\n",
            "8000/8000 [==============================] - 1s 125us/step - loss: 0.4058 - acc: 0.8330\n",
            "Epoch 24/100\n",
            "8000/8000 [==============================] - 1s 123us/step - loss: 0.4071 - acc: 0.8316\n",
            "Epoch 25/100\n",
            "8000/8000 [==============================] - 1s 125us/step - loss: 0.4063 - acc: 0.8335\n",
            "Epoch 26/100\n",
            "8000/8000 [==============================] - 1s 125us/step - loss: 0.4062 - acc: 0.8337\n",
            "Epoch 27/100\n",
            "8000/8000 [==============================] - 1s 126us/step - loss: 0.4057 - acc: 0.8339\n",
            "Epoch 28/100\n",
            "8000/8000 [==============================] - 1s 127us/step - loss: 0.4056 - acc: 0.8324\n",
            "Epoch 29/100\n",
            "8000/8000 [==============================] - 1s 126us/step - loss: 0.4056 - acc: 0.8351\n",
            "Epoch 30/100\n",
            "8000/8000 [==============================] - 1s 126us/step - loss: 0.4061 - acc: 0.8341\n",
            "Epoch 31/100\n",
            "8000/8000 [==============================] - 1s 129us/step - loss: 0.4052 - acc: 0.8355\n",
            "Epoch 32/100\n",
            "8000/8000 [==============================] - 1s 124us/step - loss: 0.4051 - acc: 0.8335\n",
            "Epoch 33/100\n",
            "8000/8000 [==============================] - 1s 136us/step - loss: 0.4046 - acc: 0.8331\n",
            "Epoch 34/100\n",
            "8000/8000 [==============================] - 1s 128us/step - loss: 0.4045 - acc: 0.8329\n",
            "Epoch 35/100\n",
            "8000/8000 [==============================] - 1s 130us/step - loss: 0.4050 - acc: 0.8346\n",
            "Epoch 36/100\n",
            "8000/8000 [==============================] - 1s 125us/step - loss: 0.4050 - acc: 0.8344\n",
            "Epoch 37/100\n",
            "8000/8000 [==============================] - 1s 121us/step - loss: 0.4048 - acc: 0.8346\n",
            "Epoch 38/100\n",
            "8000/8000 [==============================] - 1s 126us/step - loss: 0.4041 - acc: 0.8365\n",
            "Epoch 39/100\n",
            "8000/8000 [==============================] - 1s 125us/step - loss: 0.4042 - acc: 0.8354\n",
            "Epoch 40/100\n",
            "8000/8000 [==============================] - 1s 127us/step - loss: 0.4037 - acc: 0.8349\n",
            "Epoch 41/100\n",
            "8000/8000 [==============================] - 1s 125us/step - loss: 0.4043 - acc: 0.8337\n",
            "Epoch 42/100\n",
            "8000/8000 [==============================] - 1s 122us/step - loss: 0.4042 - acc: 0.8339\n",
            "Epoch 43/100\n",
            "8000/8000 [==============================] - 1s 130us/step - loss: 0.4042 - acc: 0.8342\n",
            "Epoch 44/100\n",
            "8000/8000 [==============================] - 1s 127us/step - loss: 0.4041 - acc: 0.8335\n",
            "Epoch 45/100\n",
            "8000/8000 [==============================] - 1s 126us/step - loss: 0.4041 - acc: 0.8336\n",
            "Epoch 46/100\n",
            "8000/8000 [==============================] - 1s 132us/step - loss: 0.4033 - acc: 0.8339\n",
            "Epoch 47/100\n",
            "8000/8000 [==============================] - 1s 131us/step - loss: 0.4044 - acc: 0.8336\n",
            "Epoch 48/100\n",
            "8000/8000 [==============================] - 1s 130us/step - loss: 0.4041 - acc: 0.8341\n",
            "Epoch 49/100\n",
            "8000/8000 [==============================] - 1s 131us/step - loss: 0.4039 - acc: 0.8341\n",
            "Epoch 50/100\n",
            "8000/8000 [==============================] - 1s 129us/step - loss: 0.4037 - acc: 0.8346\n",
            "Epoch 51/100\n",
            "8000/8000 [==============================] - 1s 126us/step - loss: 0.4037 - acc: 0.8337\n",
            "Epoch 52/100\n",
            "8000/8000 [==============================] - 1s 132us/step - loss: 0.4038 - acc: 0.8359\n",
            "Epoch 53/100\n",
            "8000/8000 [==============================] - 1s 128us/step - loss: 0.4042 - acc: 0.8349\n",
            "Epoch 54/100\n",
            "8000/8000 [==============================] - 1s 117us/step - loss: 0.4028 - acc: 0.8344\n",
            "Epoch 55/100\n",
            "8000/8000 [==============================] - 1s 119us/step - loss: 0.4036 - acc: 0.8347\n",
            "Epoch 56/100\n",
            "8000/8000 [==============================] - 1s 124us/step - loss: 0.4035 - acc: 0.8350\n",
            "Epoch 57/100\n",
            "8000/8000 [==============================] - 1s 128us/step - loss: 0.4041 - acc: 0.8342\n",
            "Epoch 58/100\n",
            "8000/8000 [==============================] - 1s 120us/step - loss: 0.4037 - acc: 0.8334\n",
            "Epoch 59/100\n",
            "8000/8000 [==============================] - 1s 123us/step - loss: 0.4040 - acc: 0.8325\n",
            "Epoch 60/100\n",
            "8000/8000 [==============================] - 1s 129us/step - loss: 0.4031 - acc: 0.8364\n",
            "Epoch 61/100\n",
            "8000/8000 [==============================] - 1s 122us/step - loss: 0.4034 - acc: 0.8345\n",
            "Epoch 62/100\n",
            "8000/8000 [==============================] - 1s 123us/step - loss: 0.4037 - acc: 0.8351\n",
            "Epoch 63/100\n",
            "8000/8000 [==============================] - 1s 129us/step - loss: 0.4035 - acc: 0.8322\n",
            "Epoch 64/100\n",
            "8000/8000 [==============================] - 1s 132us/step - loss: 0.4032 - acc: 0.8350\n",
            "Epoch 65/100\n",
            "8000/8000 [==============================] - 1s 132us/step - loss: 0.4037 - acc: 0.8336\n",
            "Epoch 66/100\n",
            "8000/8000 [==============================] - 1s 132us/step - loss: 0.4029 - acc: 0.8347\n",
            "Epoch 67/100\n",
            "8000/8000 [==============================] - 1s 126us/step - loss: 0.4032 - acc: 0.8332\n",
            "Epoch 68/100\n",
            "8000/8000 [==============================] - 1s 129us/step - loss: 0.4034 - acc: 0.8345\n",
            "Epoch 69/100\n",
            "8000/8000 [==============================] - 1s 119us/step - loss: 0.4033 - acc: 0.8347\n",
            "Epoch 70/100\n",
            "8000/8000 [==============================] - 1s 123us/step - loss: 0.4031 - acc: 0.8350\n",
            "Epoch 71/100\n",
            "8000/8000 [==============================] - 1s 120us/step - loss: 0.4027 - acc: 0.8345\n",
            "Epoch 72/100\n",
            "8000/8000 [==============================] - 1s 123us/step - loss: 0.4035 - acc: 0.8342\n",
            "Epoch 73/100\n",
            "8000/8000 [==============================] - 1s 122us/step - loss: 0.4035 - acc: 0.8354\n",
            "Epoch 74/100\n",
            "8000/8000 [==============================] - 1s 126us/step - loss: 0.4032 - acc: 0.8341\n",
            "Epoch 75/100\n",
            "8000/8000 [==============================] - 1s 120us/step - loss: 0.4032 - acc: 0.8336\n",
            "Epoch 76/100\n",
            "8000/8000 [==============================] - 1s 123us/step - loss: 0.4034 - acc: 0.8361\n",
            "Epoch 77/100\n",
            "8000/8000 [==============================] - 1s 126us/step - loss: 0.4031 - acc: 0.8352\n",
            "Epoch 78/100\n",
            "8000/8000 [==============================] - 1s 131us/step - loss: 0.4035 - acc: 0.8346\n",
            "Epoch 79/100\n",
            "8000/8000 [==============================] - 1s 137us/step - loss: 0.4030 - acc: 0.8346\n",
            "Epoch 80/100\n",
            "8000/8000 [==============================] - 1s 131us/step - loss: 0.4029 - acc: 0.8336\n",
            "Epoch 81/100\n",
            "8000/8000 [==============================] - 1s 126us/step - loss: 0.4030 - acc: 0.8336\n",
            "Epoch 82/100\n",
            "8000/8000 [==============================] - 1s 120us/step - loss: 0.4037 - acc: 0.8364\n",
            "Epoch 83/100\n",
            "8000/8000 [==============================] - 1s 125us/step - loss: 0.4031 - acc: 0.8341\n",
            "Epoch 84/100\n",
            "8000/8000 [==============================] - 1s 126us/step - loss: 0.4037 - acc: 0.8365\n",
            "Epoch 85/100\n",
            "8000/8000 [==============================] - 1s 122us/step - loss: 0.4032 - acc: 0.8345\n",
            "Epoch 86/100\n",
            "8000/8000 [==============================] - 1s 126us/step - loss: 0.4031 - acc: 0.8339\n",
            "Epoch 87/100\n",
            "8000/8000 [==============================] - 1s 135us/step - loss: 0.4033 - acc: 0.8352\n",
            "Epoch 88/100\n",
            "8000/8000 [==============================] - 1s 140us/step - loss: 0.4031 - acc: 0.8342\n",
            "Epoch 89/100\n",
            "8000/8000 [==============================] - 1s 156us/step - loss: 0.4031 - acc: 0.8370\n",
            "Epoch 90/100\n",
            "8000/8000 [==============================] - 1s 156us/step - loss: 0.4035 - acc: 0.8340\n",
            "Epoch 91/100\n",
            "8000/8000 [==============================] - 1s 175us/step - loss: 0.4031 - acc: 0.8369\n",
            "Epoch 92/100\n",
            "8000/8000 [==============================] - 1s 171us/step - loss: 0.4033 - acc: 0.8354\n",
            "Epoch 93/100\n",
            "8000/8000 [==============================] - 1s 155us/step - loss: 0.4033 - acc: 0.8350\n",
            "Epoch 94/100\n",
            "8000/8000 [==============================] - 1s 157us/step - loss: 0.4031 - acc: 0.8346\n",
            "Epoch 95/100\n",
            "8000/8000 [==============================] - 1s 143us/step - loss: 0.4032 - acc: 0.8347\n",
            "Epoch 96/100\n",
            "8000/8000 [==============================] - 1s 122us/step - loss: 0.4031 - acc: 0.8342\n",
            "Epoch 97/100\n",
            "8000/8000 [==============================] - 1s 121us/step - loss: 0.4029 - acc: 0.8362\n",
            "Epoch 98/100\n",
            "8000/8000 [==============================] - 1s 127us/step - loss: 0.4027 - acc: 0.8339\n",
            "Epoch 99/100\n",
            "8000/8000 [==============================] - 1s 123us/step - loss: 0.4034 - acc: 0.8357\n",
            "Epoch 100/100\n",
            "8000/8000 [==============================] - 1s 125us/step - loss: 0.4030 - acc: 0.8362\n"
          ],
          "name": "stdout"
        },
        {
          "output_type": "execute_result",
          "data": {
            "text/plain": [
              "<keras.callbacks.History at 0x7fa119155d68>"
            ]
          },
          "metadata": {
            "tags": []
          },
          "execution_count": 73
        }
      ]
    },
    {
      "cell_type": "code",
      "metadata": {
        "id": "K2dKNWAhaWWc",
        "colab_type": "code",
        "colab": {}
      },
      "source": [
        "y_pred = classifier.predict(X_test)\n",
        "\n",
        "# Convert y_pred from probabilities to True or False\n",
        "threshold = 0.5\n",
        "y_pred = (y_pred > threshold)"
      ],
      "execution_count": 0,
      "outputs": []
    },
    {
      "cell_type": "code",
      "metadata": {
        "id": "e6_gcSl7c1wk",
        "colab_type": "code",
        "outputId": "503f50e3-7652-46b0-f343-83eea4826523",
        "colab": {
          "base_uri": "https://localhost:8080/",
          "height": 136
        }
      },
      "source": [
        "y_pred"
      ],
      "execution_count": 0,
      "outputs": [
        {
          "output_type": "execute_result",
          "data": {
            "text/plain": [
              "array([[False],\n",
              "       [False],\n",
              "       [False],\n",
              "       ...,\n",
              "       [False],\n",
              "       [False],\n",
              "       [False]])"
            ]
          },
          "metadata": {
            "tags": []
          },
          "execution_count": 75
        }
      ]
    },
    {
      "cell_type": "code",
      "metadata": {
        "id": "qcCRE52lc1-i",
        "colab_type": "code",
        "colab": {}
      },
      "source": [
        "from sklearn.metrics import confusion_matrix\n",
        "cm1 = confusion_matrix(y_test, y_pred)\n"
      ],
      "execution_count": 0,
      "outputs": []
    },
    {
      "cell_type": "code",
      "metadata": {
        "id": "7Ryb6DuMdeVS",
        "colab_type": "code",
        "outputId": "9bdb5e3c-4085-41fb-88c9-b14951e715bf",
        "colab": {
          "base_uri": "https://localhost:8080/",
          "height": 51
        }
      },
      "source": [
        "cm1"
      ],
      "execution_count": 0,
      "outputs": [
        {
          "output_type": "execute_result",
          "data": {
            "text/plain": [
              "array([[1555,   52],\n",
              "       [ 260,  133]])"
            ]
          },
          "metadata": {
            "tags": []
          },
          "execution_count": 77
        }
      ]
    },
    {
      "cell_type": "code",
      "metadata": {
        "id": "MlqG2v25dhQU",
        "colab_type": "code",
        "colab": {}
      },
      "source": [
        ""
      ],
      "execution_count": 0,
      "outputs": []
    }
  ]
}
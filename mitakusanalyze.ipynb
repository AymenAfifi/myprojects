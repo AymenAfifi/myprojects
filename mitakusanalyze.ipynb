{
 "cells": [
  {
   "cell_type": "markdown",
   "metadata": {},
   "source": [
    "# Data Cleaning"
   ]
  },
  {
   "cell_type": "code",
   "execution_count": 1,
   "metadata": {},
   "outputs": [],
   "source": [
    "import numpy as np \n",
    "\n",
    "#pandas: panel data\n",
    "import pandas as pd\n",
    "\n",
    "#Data visialization\n",
    "import matplotlib.pyplot as plt \n",
    "\n",
    "%matplotlib inline\n"
   ]
  },
  {
   "cell_type": "code",
   "execution_count": 2,
   "metadata": {},
   "outputs": [],
   "source": [
    "dataset= pd.read_csv(\"1,2.csv\",sep=';')"
   ]
  },
  {
   "cell_type": "code",
   "execution_count": 72,
   "metadata": {},
   "outputs": [
    {
     "data": {
      "text/plain": [
       "(267709, 24)"
      ]
     },
     "execution_count": 72,
     "metadata": {},
     "output_type": "execute_result"
    }
   ],
   "source": [
    "dataset.shape"
   ]
  },
  {
   "cell_type": "code",
   "execution_count": 3,
   "metadata": {},
   "outputs": [
    {
     "data": {
      "text/html": [
       "<div>\n",
       "<style scoped>\n",
       "    .dataframe tbody tr th:only-of-type {\n",
       "        vertical-align: middle;\n",
       "    }\n",
       "\n",
       "    .dataframe tbody tr th {\n",
       "        vertical-align: top;\n",
       "    }\n",
       "\n",
       "    .dataframe thead th {\n",
       "        text-align: right;\n",
       "    }\n",
       "</style>\n",
       "<table border=\"1\" class=\"dataframe\">\n",
       "  <thead>\n",
       "    <tr style=\"text-align: right;\">\n",
       "      <th></th>\n",
       "      <th>Date</th>\n",
       "      <th>Time</th>\n",
       "      <th>CashPoint</th>\n",
       "      <th>ReceiptNumber</th>\n",
       "      <th>Cashier</th>\n",
       "      <th>PaymentType</th>\n",
       "      <th>CardID</th>\n",
       "      <th>Firm</th>\n",
       "      <th>Department</th>\n",
       "      <th>CostUnit</th>\n",
       "      <th>...</th>\n",
       "      <th>Taxes</th>\n",
       "      <th>Amount</th>\n",
       "      <th>Revenue</th>\n",
       "      <th>ItemDescription</th>\n",
       "      <th>NetTotal</th>\n",
       "      <th>StandardPrice</th>\n",
       "      <th>KeyCardCounter</th>\n",
       "      <th>Weight</th>\n",
       "      <th>CurrencyFlag</th>\n",
       "      <th>ValidityCard</th>\n",
       "    </tr>\n",
       "  </thead>\n",
       "  <tbody>\n",
       "    <tr>\n",
       "      <th>0</th>\n",
       "      <td>02.01.2013</td>\n",
       "      <td>07:25</td>\n",
       "      <td>1</td>\n",
       "      <td>1331376</td>\n",
       "      <td>3</td>\n",
       "      <td>K/C</td>\n",
       "      <td>30823</td>\n",
       "      <td>11</td>\n",
       "      <td>0</td>\n",
       "      <td>NaN</td>\n",
       "      <td>...</td>\n",
       "      <td>7,00</td>\n",
       "      <td>1</td>\n",
       "      <td>0,20</td>\n",
       "      <td>Semmeln</td>\n",
       "      <td>6,70</td>\n",
       "      <td>0,20</td>\n",
       "      <td>1133</td>\n",
       "      <td>0</td>\n",
       "      <td>1</td>\n",
       "      <td>NaN</td>\n",
       "    </tr>\n",
       "    <tr>\n",
       "      <th>1</th>\n",
       "      <td>02.01.2013</td>\n",
       "      <td>07:25</td>\n",
       "      <td>1</td>\n",
       "      <td>1331376</td>\n",
       "      <td>3</td>\n",
       "      <td>K/C</td>\n",
       "      <td>30823</td>\n",
       "      <td>11</td>\n",
       "      <td>0</td>\n",
       "      <td>NaN</td>\n",
       "      <td>...</td>\n",
       "      <td>7,00</td>\n",
       "      <td>1</td>\n",
       "      <td>0,85</td>\n",
       "      <td>Croissant 0,90</td>\n",
       "      <td>6,70</td>\n",
       "      <td>0,85</td>\n",
       "      <td>1133</td>\n",
       "      <td>0</td>\n",
       "      <td>1</td>\n",
       "      <td>NaN</td>\n",
       "    </tr>\n",
       "    <tr>\n",
       "      <th>2</th>\n",
       "      <td>02.01.2013</td>\n",
       "      <td>07:25</td>\n",
       "      <td>1</td>\n",
       "      <td>1331376</td>\n",
       "      <td>3</td>\n",
       "      <td>K/C</td>\n",
       "      <td>30823</td>\n",
       "      <td>11</td>\n",
       "      <td>0</td>\n",
       "      <td>NaN</td>\n",
       "      <td>...</td>\n",
       "      <td>19,00</td>\n",
       "      <td>1</td>\n",
       "      <td>0,65</td>\n",
       "      <td>O-Saft frisch</td>\n",
       "      <td>6,70</td>\n",
       "      <td>0,65</td>\n",
       "      <td>1133</td>\n",
       "      <td>0</td>\n",
       "      <td>1</td>\n",
       "      <td>NaN</td>\n",
       "    </tr>\n",
       "    <tr>\n",
       "      <th>3</th>\n",
       "      <td>02.01.2013</td>\n",
       "      <td>07:25</td>\n",
       "      <td>1</td>\n",
       "      <td>1331376</td>\n",
       "      <td>3</td>\n",
       "      <td>K/C</td>\n",
       "      <td>30823</td>\n",
       "      <td>11</td>\n",
       "      <td>0</td>\n",
       "      <td>NaN</td>\n",
       "      <td>...</td>\n",
       "      <td>7,00</td>\n",
       "      <td>1</td>\n",
       "      <td>0,25</td>\n",
       "      <td>Port. Butter Honig ec</td>\n",
       "      <td>6,70</td>\n",
       "      <td>0,25</td>\n",
       "      <td>1133</td>\n",
       "      <td>0</td>\n",
       "      <td>1</td>\n",
       "      <td>NaN</td>\n",
       "    </tr>\n",
       "    <tr>\n",
       "      <th>4</th>\n",
       "      <td>02.01.2013</td>\n",
       "      <td>07:25</td>\n",
       "      <td>1</td>\n",
       "      <td>1331376</td>\n",
       "      <td>3</td>\n",
       "      <td>K/C</td>\n",
       "      <td>30823</td>\n",
       "      <td>11</td>\n",
       "      <td>0</td>\n",
       "      <td>NaN</td>\n",
       "      <td>...</td>\n",
       "      <td>7,00</td>\n",
       "      <td>1</td>\n",
       "      <td>0,25</td>\n",
       "      <td>Port. Butter Honig ec</td>\n",
       "      <td>6,70</td>\n",
       "      <td>0,25</td>\n",
       "      <td>1133</td>\n",
       "      <td>0</td>\n",
       "      <td>1</td>\n",
       "      <td>NaN</td>\n",
       "    </tr>\n",
       "  </tbody>\n",
       "</table>\n",
       "<p>5 rows × 24 columns</p>\n",
       "</div>"
      ],
      "text/plain": [
       "         Date   Time  CashPoint  ReceiptNumber  Cashier PaymentType  CardID  \\\n",
       "0  02.01.2013  07:25          1        1331376        3         K/C   30823   \n",
       "1  02.01.2013  07:25          1        1331376        3         K/C   30823   \n",
       "2  02.01.2013  07:25          1        1331376        3         K/C   30823   \n",
       "3  02.01.2013  07:25          1        1331376        3         K/C   30823   \n",
       "4  02.01.2013  07:25          1        1331376        3         K/C   30823   \n",
       "\n",
       "   Firm  Department  CostUnit     ...       Taxes  Amount Revenue  \\\n",
       "0    11           0       NaN     ...        7,00       1    0,20   \n",
       "1    11           0       NaN     ...        7,00       1    0,85   \n",
       "2    11           0       NaN     ...       19,00       1    0,65   \n",
       "3    11           0       NaN     ...        7,00       1    0,25   \n",
       "4    11           0       NaN     ...        7,00       1    0,25   \n",
       "\n",
       "         ItemDescription NetTotal  StandardPrice KeyCardCounter Weight  \\\n",
       "0                Semmeln     6,70           0,20           1133      0   \n",
       "1         Croissant 0,90     6,70           0,85           1133      0   \n",
       "2          O-Saft frisch     6,70           0,65           1133      0   \n",
       "3  Port. Butter Honig ec     6,70           0,25           1133      0   \n",
       "4  Port. Butter Honig ec     6,70           0,25           1133      0   \n",
       "\n",
       "  CurrencyFlag ValidityCard  \n",
       "0            1          NaN  \n",
       "1            1          NaN  \n",
       "2            1          NaN  \n",
       "3            1          NaN  \n",
       "4            1          NaN  \n",
       "\n",
       "[5 rows x 24 columns]"
      ]
     },
     "execution_count": 3,
     "metadata": {},
     "output_type": "execute_result"
    }
   ],
   "source": [
    "dataset.head()"
   ]
  },
  {
   "cell_type": "code",
   "execution_count": 4,
   "metadata": {},
   "outputs": [
    {
     "data": {
      "text/html": [
       "<div>\n",
       "<style scoped>\n",
       "    .dataframe tbody tr th:only-of-type {\n",
       "        vertical-align: middle;\n",
       "    }\n",
       "\n",
       "    .dataframe tbody tr th {\n",
       "        vertical-align: top;\n",
       "    }\n",
       "\n",
       "    .dataframe thead th {\n",
       "        text-align: right;\n",
       "    }\n",
       "</style>\n",
       "<table border=\"1\" class=\"dataframe\">\n",
       "  <thead>\n",
       "    <tr style=\"text-align: right;\">\n",
       "      <th></th>\n",
       "      <th>Date</th>\n",
       "      <th>Time</th>\n",
       "      <th>CashPoint</th>\n",
       "      <th>ReceiptNumber</th>\n",
       "      <th>Cashier</th>\n",
       "      <th>PaymentType</th>\n",
       "      <th>CardID</th>\n",
       "      <th>Firm</th>\n",
       "      <th>Department</th>\n",
       "      <th>CostUnit</th>\n",
       "      <th>...</th>\n",
       "      <th>Taxes</th>\n",
       "      <th>Amount</th>\n",
       "      <th>Revenue</th>\n",
       "      <th>ItemDescription</th>\n",
       "      <th>NetTotal</th>\n",
       "      <th>StandardPrice</th>\n",
       "      <th>KeyCardCounter</th>\n",
       "      <th>Weight</th>\n",
       "      <th>CurrencyFlag</th>\n",
       "      <th>ValidityCard</th>\n",
       "    </tr>\n",
       "  </thead>\n",
       "  <tbody>\n",
       "    <tr>\n",
       "      <th>267704</th>\n",
       "      <td>20.12.2013</td>\n",
       "      <td>12:45</td>\n",
       "      <td>2</td>\n",
       "      <td>916203</td>\n",
       "      <td>13</td>\n",
       "      <td>K/C</td>\n",
       "      <td>36471</td>\n",
       "      <td>11</td>\n",
       "      <td>0</td>\n",
       "      <td>NaN</td>\n",
       "      <td>...</td>\n",
       "      <td>19,00</td>\n",
       "      <td>1</td>\n",
       "      <td>0,45</td>\n",
       "      <td>Beilage a 0,45</td>\n",
       "      <td>6,15</td>\n",
       "      <td>0,45</td>\n",
       "      <td>479</td>\n",
       "      <td>0</td>\n",
       "      <td>1</td>\n",
       "      <td>NaN</td>\n",
       "    </tr>\n",
       "    <tr>\n",
       "      <th>267705</th>\n",
       "      <td>20.12.2013</td>\n",
       "      <td>12:45</td>\n",
       "      <td>2</td>\n",
       "      <td>916204</td>\n",
       "      <td>13</td>\n",
       "      <td>K/C</td>\n",
       "      <td>36891</td>\n",
       "      <td>4</td>\n",
       "      <td>0</td>\n",
       "      <td>NaN</td>\n",
       "      <td>...</td>\n",
       "      <td>19,00</td>\n",
       "      <td>1</td>\n",
       "      <td>2,60</td>\n",
       "      <td>Rot 2,60</td>\n",
       "      <td>6,35</td>\n",
       "      <td>2,60</td>\n",
       "      <td>2752</td>\n",
       "      <td>0</td>\n",
       "      <td>1</td>\n",
       "      <td>NaN</td>\n",
       "    </tr>\n",
       "    <tr>\n",
       "      <th>267706</th>\n",
       "      <td>20.12.2013</td>\n",
       "      <td>12:45</td>\n",
       "      <td>2</td>\n",
       "      <td>916204</td>\n",
       "      <td>13</td>\n",
       "      <td>K/C</td>\n",
       "      <td>36891</td>\n",
       "      <td>4</td>\n",
       "      <td>0</td>\n",
       "      <td>NaN</td>\n",
       "      <td>...</td>\n",
       "      <td>19,00</td>\n",
       "      <td>1</td>\n",
       "      <td>0,45</td>\n",
       "      <td>Beilage a 0,45</td>\n",
       "      <td>6,35</td>\n",
       "      <td>0,45</td>\n",
       "      <td>2752</td>\n",
       "      <td>0</td>\n",
       "      <td>1</td>\n",
       "      <td>NaN</td>\n",
       "    </tr>\n",
       "    <tr>\n",
       "      <th>267707</th>\n",
       "      <td>20.12.2013</td>\n",
       "      <td>12:46</td>\n",
       "      <td>2</td>\n",
       "      <td>916205</td>\n",
       "      <td>13</td>\n",
       "      <td>K/C</td>\n",
       "      <td>85161</td>\n",
       "      <td>11</td>\n",
       "      <td>0</td>\n",
       "      <td>NaN</td>\n",
       "      <td>...</td>\n",
       "      <td>7,00</td>\n",
       "      <td>1</td>\n",
       "      <td>0,55</td>\n",
       "      <td>Breze 0,65</td>\n",
       "      <td>4,59</td>\n",
       "      <td>0,55</td>\n",
       "      <td>3676</td>\n",
       "      <td>0</td>\n",
       "      <td>1</td>\n",
       "      <td>NaN</td>\n",
       "    </tr>\n",
       "    <tr>\n",
       "      <th>267708</th>\n",
       "      <td>20.12.2013</td>\n",
       "      <td>12:46</td>\n",
       "      <td>2</td>\n",
       "      <td>916205</td>\n",
       "      <td>13</td>\n",
       "      <td>K/C</td>\n",
       "      <td>85161</td>\n",
       "      <td>11</td>\n",
       "      <td>0</td>\n",
       "      <td>NaN</td>\n",
       "      <td>...</td>\n",
       "      <td>7,00</td>\n",
       "      <td>1</td>\n",
       "      <td>0,35</td>\n",
       "      <td>Marmelade 0,35</td>\n",
       "      <td>4,59</td>\n",
       "      <td>0,35</td>\n",
       "      <td>3676</td>\n",
       "      <td>0</td>\n",
       "      <td>1</td>\n",
       "      <td>NaN</td>\n",
       "    </tr>\n",
       "  </tbody>\n",
       "</table>\n",
       "<p>5 rows × 24 columns</p>\n",
       "</div>"
      ],
      "text/plain": [
       "              Date   Time  CashPoint  ReceiptNumber  Cashier PaymentType  \\\n",
       "267704  20.12.2013  12:45          2         916203       13         K/C   \n",
       "267705  20.12.2013  12:45          2         916204       13         K/C   \n",
       "267706  20.12.2013  12:45          2         916204       13         K/C   \n",
       "267707  20.12.2013  12:46          2         916205       13         K/C   \n",
       "267708  20.12.2013  12:46          2         916205       13         K/C   \n",
       "\n",
       "        CardID  Firm  Department  CostUnit     ...       Taxes  Amount  \\\n",
       "267704   36471    11           0       NaN     ...       19,00       1   \n",
       "267705   36891     4           0       NaN     ...       19,00       1   \n",
       "267706   36891     4           0       NaN     ...       19,00       1   \n",
       "267707   85161    11           0       NaN     ...        7,00       1   \n",
       "267708   85161    11           0       NaN     ...        7,00       1   \n",
       "\n",
       "       Revenue  ItemDescription NetTotal  StandardPrice KeyCardCounter Weight  \\\n",
       "267704    0,45   Beilage a 0,45     6,15           0,45            479      0   \n",
       "267705    2,60         Rot 2,60     6,35           2,60           2752      0   \n",
       "267706    0,45   Beilage a 0,45     6,35           0,45           2752      0   \n",
       "267707    0,55       Breze 0,65     4,59           0,55           3676      0   \n",
       "267708    0,35   Marmelade 0,35     4,59           0,35           3676      0   \n",
       "\n",
       "       CurrencyFlag ValidityCard  \n",
       "267704            1          NaN  \n",
       "267705            1          NaN  \n",
       "267706            1          NaN  \n",
       "267707            1          NaN  \n",
       "267708            1          NaN  \n",
       "\n",
       "[5 rows x 24 columns]"
      ]
     },
     "execution_count": 4,
     "metadata": {},
     "output_type": "execute_result"
    }
   ],
   "source": [
    "dataset.tail()"
   ]
  },
  {
   "cell_type": "code",
   "execution_count": 4,
   "metadata": {},
   "outputs": [
    {
     "data": {
      "text/html": [
       "<div>\n",
       "<style scoped>\n",
       "    .dataframe tbody tr th:only-of-type {\n",
       "        vertical-align: middle;\n",
       "    }\n",
       "\n",
       "    .dataframe tbody tr th {\n",
       "        vertical-align: top;\n",
       "    }\n",
       "\n",
       "    .dataframe thead th {\n",
       "        text-align: right;\n",
       "    }\n",
       "</style>\n",
       "<table border=\"1\" class=\"dataframe\">\n",
       "  <thead>\n",
       "    <tr style=\"text-align: right;\">\n",
       "      <th></th>\n",
       "      <th>CashPoint</th>\n",
       "      <th>ReceiptNumber</th>\n",
       "      <th>Cashier</th>\n",
       "      <th>CardID</th>\n",
       "      <th>Firm</th>\n",
       "      <th>Department</th>\n",
       "      <th>CostUnit</th>\n",
       "      <th>PriceList</th>\n",
       "      <th>SubventionLevel</th>\n",
       "      <th>ItemNumber</th>\n",
       "      <th>Amount</th>\n",
       "      <th>KeyCardCounter</th>\n",
       "      <th>Weight</th>\n",
       "      <th>CurrencyFlag</th>\n",
       "      <th>ValidityCard</th>\n",
       "    </tr>\n",
       "  </thead>\n",
       "  <tbody>\n",
       "    <tr>\n",
       "      <th>count</th>\n",
       "      <td>267709.000000</td>\n",
       "      <td>2.677090e+05</td>\n",
       "      <td>267709.000000</td>\n",
       "      <td>267709.000000</td>\n",
       "      <td>267709.000000</td>\n",
       "      <td>267709.000000</td>\n",
       "      <td>2.505000e+03</td>\n",
       "      <td>267709.000000</td>\n",
       "      <td>267709.0</td>\n",
       "      <td>267709.000000</td>\n",
       "      <td>267709.000000</td>\n",
       "      <td>267709.000000</td>\n",
       "      <td>267709.000000</td>\n",
       "      <td>267709.000000</td>\n",
       "      <td>0.0</td>\n",
       "    </tr>\n",
       "    <tr>\n",
       "      <th>mean</th>\n",
       "      <td>1.375815</td>\n",
       "      <td>1.191622e+06</td>\n",
       "      <td>15.707440</td>\n",
       "      <td>54786.459585</td>\n",
       "      <td>10.366398</td>\n",
       "      <td>0.046338</td>\n",
       "      <td>3.854642e+07</td>\n",
       "      <td>1.056427</td>\n",
       "      <td>100.0</td>\n",
       "      <td>782.792118</td>\n",
       "      <td>0.999832</td>\n",
       "      <td>1851.343194</td>\n",
       "      <td>30.416631</td>\n",
       "      <td>0.999951</td>\n",
       "      <td>NaN</td>\n",
       "    </tr>\n",
       "    <tr>\n",
       "      <th>std</th>\n",
       "      <td>0.484333</td>\n",
       "      <td>2.323855e+05</td>\n",
       "      <td>9.973238</td>\n",
       "      <td>39171.587775</td>\n",
       "      <td>4.112117</td>\n",
       "      <td>0.590794</td>\n",
       "      <td>3.884256e+07</td>\n",
       "      <td>0.342859</td>\n",
       "      <td>0.0</td>\n",
       "      <td>3669.624523</td>\n",
       "      <td>0.334160</td>\n",
       "      <td>2728.109100</td>\n",
       "      <td>97.638777</td>\n",
       "      <td>0.006968</td>\n",
       "      <td>NaN</td>\n",
       "    </tr>\n",
       "    <tr>\n",
       "      <th>min</th>\n",
       "      <td>1.000000</td>\n",
       "      <td>8.703040e+05</td>\n",
       "      <td>0.000000</td>\n",
       "      <td>42.000000</td>\n",
       "      <td>1.000000</td>\n",
       "      <td>0.000000</td>\n",
       "      <td>4.000000e+00</td>\n",
       "      <td>0.000000</td>\n",
       "      <td>100.0</td>\n",
       "      <td>102.000000</td>\n",
       "      <td>-20.000000</td>\n",
       "      <td>2.000000</td>\n",
       "      <td>-753.000000</td>\n",
       "      <td>0.000000</td>\n",
       "      <td>NaN</td>\n",
       "    </tr>\n",
       "    <tr>\n",
       "      <th>25%</th>\n",
       "      <td>1.000000</td>\n",
       "      <td>9.009090e+05</td>\n",
       "      <td>13.000000</td>\n",
       "      <td>20521.000000</td>\n",
       "      <td>11.000000</td>\n",
       "      <td>0.000000</td>\n",
       "      <td>3.010700e+06</td>\n",
       "      <td>1.000000</td>\n",
       "      <td>100.0</td>\n",
       "      <td>344.000000</td>\n",
       "      <td>1.000000</td>\n",
       "      <td>425.000000</td>\n",
       "      <td>0.000000</td>\n",
       "      <td>1.000000</td>\n",
       "      <td>NaN</td>\n",
       "    </tr>\n",
       "    <tr>\n",
       "      <th>50%</th>\n",
       "      <td>1.000000</td>\n",
       "      <td>1.347459e+06</td>\n",
       "      <td>13.000000</td>\n",
       "      <td>42952.000000</td>\n",
       "      <td>11.000000</td>\n",
       "      <td>0.000000</td>\n",
       "      <td>3.071900e+06</td>\n",
       "      <td>1.000000</td>\n",
       "      <td>100.0</td>\n",
       "      <td>506.000000</td>\n",
       "      <td>1.000000</td>\n",
       "      <td>1079.000000</td>\n",
       "      <td>0.000000</td>\n",
       "      <td>1.000000</td>\n",
       "      <td>NaN</td>\n",
       "    </tr>\n",
       "    <tr>\n",
       "      <th>75%</th>\n",
       "      <td>2.000000</td>\n",
       "      <td>1.379243e+06</td>\n",
       "      <td>13.000000</td>\n",
       "      <td>86392.000000</td>\n",
       "      <td>11.000000</td>\n",
       "      <td>0.000000</td>\n",
       "      <td>8.012400e+07</td>\n",
       "      <td>1.000000</td>\n",
       "      <td>100.0</td>\n",
       "      <td>809.000000</td>\n",
       "      <td>1.000000</td>\n",
       "      <td>2258.000000</td>\n",
       "      <td>0.000000</td>\n",
       "      <td>1.000000</td>\n",
       "      <td>NaN</td>\n",
       "    </tr>\n",
       "    <tr>\n",
       "      <th>max</th>\n",
       "      <td>2.000000</td>\n",
       "      <td>1.410686e+06</td>\n",
       "      <td>38.000000</td>\n",
       "      <td>143360.000000</td>\n",
       "      <td>99.000000</td>\n",
       "      <td>12.000000</td>\n",
       "      <td>8.031400e+07</td>\n",
       "      <td>3.000000</td>\n",
       "      <td>100.0</td>\n",
       "      <td>65018.000000</td>\n",
       "      <td>84.000000</td>\n",
       "      <td>65536.000000</td>\n",
       "      <td>994.000000</td>\n",
       "      <td>1.000000</td>\n",
       "      <td>NaN</td>\n",
       "    </tr>\n",
       "  </tbody>\n",
       "</table>\n",
       "</div>"
      ],
      "text/plain": [
       "           CashPoint  ReceiptNumber        Cashier         CardID  \\\n",
       "count  267709.000000   2.677090e+05  267709.000000  267709.000000   \n",
       "mean        1.375815   1.191622e+06      15.707440   54786.459585   \n",
       "std         0.484333   2.323855e+05       9.973238   39171.587775   \n",
       "min         1.000000   8.703040e+05       0.000000      42.000000   \n",
       "25%         1.000000   9.009090e+05      13.000000   20521.000000   \n",
       "50%         1.000000   1.347459e+06      13.000000   42952.000000   \n",
       "75%         2.000000   1.379243e+06      13.000000   86392.000000   \n",
       "max         2.000000   1.410686e+06      38.000000  143360.000000   \n",
       "\n",
       "                Firm     Department      CostUnit      PriceList  \\\n",
       "count  267709.000000  267709.000000  2.505000e+03  267709.000000   \n",
       "mean       10.366398       0.046338  3.854642e+07       1.056427   \n",
       "std         4.112117       0.590794  3.884256e+07       0.342859   \n",
       "min         1.000000       0.000000  4.000000e+00       0.000000   \n",
       "25%        11.000000       0.000000  3.010700e+06       1.000000   \n",
       "50%        11.000000       0.000000  3.071900e+06       1.000000   \n",
       "75%        11.000000       0.000000  8.012400e+07       1.000000   \n",
       "max        99.000000      12.000000  8.031400e+07       3.000000   \n",
       "\n",
       "       SubventionLevel     ItemNumber         Amount  KeyCardCounter  \\\n",
       "count         267709.0  267709.000000  267709.000000   267709.000000   \n",
       "mean             100.0     782.792118       0.999832     1851.343194   \n",
       "std                0.0    3669.624523       0.334160     2728.109100   \n",
       "min              100.0     102.000000     -20.000000        2.000000   \n",
       "25%              100.0     344.000000       1.000000      425.000000   \n",
       "50%              100.0     506.000000       1.000000     1079.000000   \n",
       "75%              100.0     809.000000       1.000000     2258.000000   \n",
       "max              100.0   65018.000000      84.000000    65536.000000   \n",
       "\n",
       "              Weight   CurrencyFlag  ValidityCard  \n",
       "count  267709.000000  267709.000000           0.0  \n",
       "mean       30.416631       0.999951           NaN  \n",
       "std        97.638777       0.006968           NaN  \n",
       "min      -753.000000       0.000000           NaN  \n",
       "25%         0.000000       1.000000           NaN  \n",
       "50%         0.000000       1.000000           NaN  \n",
       "75%         0.000000       1.000000           NaN  \n",
       "max       994.000000       1.000000           NaN  "
      ]
     },
     "execution_count": 4,
     "metadata": {},
     "output_type": "execute_result"
    }
   ],
   "source": [
    "dataset.describe()"
   ]
  },
  {
   "cell_type": "code",
   "execution_count": 76,
   "metadata": {},
   "outputs": [
    {
     "data": {
      "text/plain": [
       "Date               267709\n",
       "Time               267709\n",
       "CashPoint          267709\n",
       "ReceiptNumber      267709\n",
       "Cashier            267709\n",
       "PaymentType        267709\n",
       "CardID             267709\n",
       "Firm               267709\n",
       "Department         267709\n",
       "CostUnit             2505\n",
       "PriceList          267709\n",
       "SubventionLevel    267709\n",
       "PositionType       267709\n",
       "ItemNumber         267709\n",
       "Taxes              267709\n",
       "Amount             267709\n",
       "Revenue            267709\n",
       "ItemDescription    267709\n",
       "NetTotal           267709\n",
       "StandardPrice      267709\n",
       "KeyCardCounter     267709\n",
       "Weight             267709\n",
       "CurrencyFlag       267709\n",
       "ValidityCard            0\n",
       "dtype: int64"
      ]
     },
     "execution_count": 76,
     "metadata": {},
     "output_type": "execute_result"
    }
   ],
   "source": [
    "dataset.count()"
   ]
  },
  {
   "cell_type": "code",
   "execution_count": 39,
   "metadata": {},
   "outputs": [
    {
     "data": {
      "text/plain": [
       "False    253883\n",
       "True      13826\n",
       "dtype: int64"
      ]
     },
     "execution_count": 39,
     "metadata": {},
     "output_type": "execute_result"
    }
   ],
   "source": [
    "dataset.duplicated().value_counts()"
   ]
  },
  {
   "cell_type": "code",
   "execution_count": 40,
   "metadata": {},
   "outputs": [
    {
     "data": {
      "text/plain": [
       "True     142496\n",
       "False    125213\n",
       "dtype: int64"
      ]
     },
     "execution_count": 40,
     "metadata": {},
     "output_type": "execute_result"
    }
   ],
   "source": [
    "dataset.duplicated(\"ReceiptNumber\").value_counts()"
   ]
  },
  {
   "cell_type": "code",
   "execution_count": 11,
   "metadata": {},
   "outputs": [],
   "source": [
    "#dataset.dropna"
   ]
  },
  {
   "cell_type": "code",
   "execution_count": 11,
   "metadata": {},
   "outputs": [],
   "source": [
    "dataset2=dataset.dropna(axis=1,how='any')   #drop missing values"
   ]
  },
  {
   "cell_type": "code",
   "execution_count": 12,
   "metadata": {},
   "outputs": [
    {
     "data": {
      "text/plain": [
       "(267709, 22)"
      ]
     },
     "execution_count": 12,
     "metadata": {},
     "output_type": "execute_result"
    }
   ],
   "source": [
    "dataset2.shape"
   ]
  },
  {
   "cell_type": "code",
   "execution_count": 13,
   "metadata": {},
   "outputs": [
    {
     "data": {
      "text/plain": [
       "Date                    0\n",
       "Time                    0\n",
       "CashPoint               0\n",
       "ReceiptNumber           0\n",
       "Cashier                 0\n",
       "PaymentType             0\n",
       "CardID                  0\n",
       "Firm                    0\n",
       "Department              0\n",
       "CostUnit           265204\n",
       "PriceList               0\n",
       "SubventionLevel         0\n",
       "PositionType            0\n",
       "ItemNumber              0\n",
       "Taxes                   0\n",
       "Amount                  0\n",
       "Revenue                 0\n",
       "ItemDescription         0\n",
       "NetTotal                0\n",
       "StandardPrice           0\n",
       "KeyCardCounter          0\n",
       "Weight                  0\n",
       "CurrencyFlag            0\n",
       "ValidityCard       267709\n",
       "dtype: int64"
      ]
     },
     "execution_count": 13,
     "metadata": {},
     "output_type": "execute_result"
    }
   ],
   "source": [
    "dataset.isnull().sum()  #checking for missing values"
   ]
  },
  {
   "cell_type": "markdown",
   "metadata": {},
   "source": [
    "### type of data problem"
   ]
  },
  {
   "cell_type": "code",
   "execution_count": 3,
   "metadata": {},
   "outputs": [],
   "source": [
    "column=()\n",
    "def fctconvert(dataset,column):\n",
    "    df=pd.DataFrame(dataset[column])\n",
    "    df=df.apply(lambda x: x.str.replace(',','.')) \n",
    "    df=df.astype(\"float64\")\n",
    "    dataset[column]=df[column]\n",
    "    return dataset[column].dtypes"
   ]
  },
  {
   "cell_type": "code",
   "execution_count": 98,
   "metadata": {},
   "outputs": [
    {
     "data": {
      "text/plain": [
       "Date                object\n",
       "Time                object\n",
       "CashPoint            int64\n",
       "ReceiptNumber        int64\n",
       "Cashier              int64\n",
       "PaymentType         object\n",
       "CardID               int64\n",
       "Firm                 int64\n",
       "Department           int64\n",
       "CostUnit           float64\n",
       "PriceList            int64\n",
       "SubventionLevel      int64\n",
       "PositionType        object\n",
       "ItemNumber           int64\n",
       "Taxes               object\n",
       "Amount               int64\n",
       "Revenue             object\n",
       "ItemDescription     object\n",
       "NetTotal            object\n",
       "StandardPrice       object\n",
       "KeyCardCounter       int64\n",
       "Weight               int64\n",
       "CurrencyFlag         int64\n",
       "ValidityCard       float64\n",
       "dtype: object"
      ]
     },
     "execution_count": 98,
     "metadata": {},
     "output_type": "execute_result"
    }
   ],
   "source": [
    "dataset.dtypes"
   ]
  },
  {
   "cell_type": "code",
   "execution_count": 4,
   "metadata": {},
   "outputs": [
    {
     "data": {
      "text/plain": [
       "dtype('float64')"
      ]
     },
     "execution_count": 4,
     "metadata": {},
     "output_type": "execute_result"
    }
   ],
   "source": [
    "fctconvert(dataset,column=\"Revenue\")\n",
    "fctconvert(dataset,column=\"NetTotal\")"
   ]
  },
  {
   "cell_type": "code",
   "execution_count": 131,
   "metadata": {},
   "outputs": [
    {
     "data": {
      "text/plain": [
       "Date                object\n",
       "Time                object\n",
       "CashPoint            int64\n",
       "ReceiptNumber        int64\n",
       "Cashier              int64\n",
       "PaymentType         object\n",
       "CardID               int64\n",
       "Firm                 int64\n",
       "Department           int64\n",
       "CostUnit           float64\n",
       "PriceList            int64\n",
       "SubventionLevel      int64\n",
       "PositionType        object\n",
       "ItemNumber           int64\n",
       "Taxes               object\n",
       "Amount               int64\n",
       "Revenue            float64\n",
       "ItemDescription     object\n",
       "NetTotal           float64\n",
       "StandardPrice       object\n",
       "KeyCardCounter       int64\n",
       "Weight               int64\n",
       "CurrencyFlag         int64\n",
       "ValidityCard       float64\n",
       "dtype: object"
      ]
     },
     "execution_count": 131,
     "metadata": {},
     "output_type": "execute_result"
    }
   ],
   "source": [
    "dataset.dtypes"
   ]
  },
  {
   "cell_type": "markdown",
   "metadata": {},
   "source": [
    "dataset[\"Date\"] =  pd.to_datetime(dataset[\"Date\"])"
   ]
  },
  {
   "cell_type": "markdown",
   "metadata": {},
   "source": [
    "### datatime format problem"
   ]
  },
  {
   "cell_type": "code",
   "execution_count": 5,
   "metadata": {},
   "outputs": [],
   "source": [
    "column=()\n",
    "def dateconvert(dataset,column):\n",
    "    df=pd.DataFrame(dataset[column])\n",
    "    df=df.apply(lambda x: x.str.replace('.','/')) \n",
    "    dataset[column]=df[column]\n",
    "    return dataset[column].head()"
   ]
  },
  {
   "cell_type": "code",
   "execution_count": 38,
   "metadata": {},
   "outputs": [
    {
     "data": {
      "text/plain": [
       "0    02/01/2013\n",
       "1    02/01/2013\n",
       "2    02/01/2013\n",
       "3    02/01/2013\n",
       "4    02/01/2013\n",
       "Name: Date, dtype: object"
      ]
     },
     "execution_count": 38,
     "metadata": {},
     "output_type": "execute_result"
    }
   ],
   "source": [
    "dataset[\"Date\"].head()"
   ]
  },
  {
   "cell_type": "code",
   "execution_count": 6,
   "metadata": {},
   "outputs": [
    {
     "data": {
      "text/plain": [
       "0    02/01/2013\n",
       "1    02/01/2013\n",
       "2    02/01/2013\n",
       "3    02/01/2013\n",
       "4    02/01/2013\n",
       "Name: Date, dtype: object"
      ]
     },
     "execution_count": 6,
     "metadata": {},
     "output_type": "execute_result"
    }
   ],
   "source": [
    "dateconvert(dataset,column=\"Date\")"
   ]
  },
  {
   "cell_type": "code",
   "execution_count": 40,
   "metadata": {},
   "outputs": [],
   "source": [
    "dataset[\"Date\"] =pd.to_datetime(dataset[\"Date\"],dayfirst=True,format=\"%d/%m/%Y\")"
   ]
  },
  {
   "cell_type": "code",
   "execution_count": 9,
   "metadata": {},
   "outputs": [
    {
     "data": {
      "text/plain": [
       "0   2013-01-02\n",
       "1   2013-01-02\n",
       "2   2013-01-02\n",
       "3   2013-01-02\n",
       "4   2013-01-02\n",
       "Name: Date, dtype: datetime64[ns]"
      ]
     },
     "execution_count": 9,
     "metadata": {},
     "output_type": "execute_result"
    }
   ],
   "source": [
    "dataset[\"Date\"].head()"
   ]
  },
  {
   "cell_type": "code",
   "execution_count": 41,
   "metadata": {},
   "outputs": [],
   "source": [
    "dataset[\"Year\"]=dataset[\"Date\"].dt.year\n",
    "dataset[\"Month\"]=dataset[\"Date\"].dt.month\n",
    "dataset[\"Day\"]=dataset[\"Date\"].dt.day"
   ]
  },
  {
   "cell_type": "code",
   "execution_count": null,
   "metadata": {},
   "outputs": [],
   "source": []
  },
  {
   "cell_type": "markdown",
   "metadata": {},
   "source": [
    "# End"
   ]
  },
  {
   "cell_type": "code",
   "execution_count": 107,
   "metadata": {},
   "outputs": [
    {
     "data": {
      "text/plain": [
       "Date               datetime64[ns]\n",
       "Time                       object\n",
       "CashPoint                   int64\n",
       "ReceiptNumber               int64\n",
       "Cashier                     int64\n",
       "PaymentType                object\n",
       "CardID                      int64\n",
       "Firm                        int64\n",
       "Department                  int64\n",
       "CostUnit                  float64\n",
       "PriceList                   int64\n",
       "SubventionLevel             int64\n",
       "PositionType               object\n",
       "ItemNumber                  int64\n",
       "Taxes                      object\n",
       "Amount                      int64\n",
       "Revenue                   float64\n",
       "ItemDescription            object\n",
       "NetTotal                  float64\n",
       "StandardPrice              object\n",
       "KeyCardCounter              int64\n",
       "Weight                      int64\n",
       "CurrencyFlag                int64\n",
       "ValidityCard              float64\n",
       "Year                        int64\n",
       "Month                       int64\n",
       "Day                         int64\n",
       "dtype: object"
      ]
     },
     "execution_count": 107,
     "metadata": {},
     "output_type": "execute_result"
    }
   ],
   "source": [
    "dataset.dtypes"
   ]
  },
  {
   "cell_type": "code",
   "execution_count": 15,
   "metadata": {},
   "outputs": [
    {
     "data": {
      "text/plain": [
       "Index(['Date', 'Time', 'CashPoint', 'ReceiptNumber', 'Cashier', 'PaymentType',\n",
       "       'CardID', 'Firm', 'Department', 'CostUnit', 'PriceList',\n",
       "       'SubventionLevel', 'PositionType', 'ItemNumber', 'Taxes', 'Amount',\n",
       "       'Revenue', 'ItemDescription', 'NetTotal', 'StandardPrice',\n",
       "       'KeyCardCounter', 'Weight', 'CurrencyFlag', 'ValidityCard', 'Year',\n",
       "       'Month', 'Day'],\n",
       "      dtype='object')"
      ]
     },
     "execution_count": 15,
     "metadata": {},
     "output_type": "execute_result"
    }
   ],
   "source": [
    "dataset.columns"
   ]
  },
  {
   "cell_type": "code",
   "execution_count": 9,
   "metadata": {},
   "outputs": [
    {
     "data": {
      "text/plain": [
       "Index(['Date', 'Time', 'CashPoint', 'ReceiptNumber', 'Cashier', 'PaymentType',\n",
       "       'CardID', 'Firm', 'Department', 'CostUnit', 'PriceList',\n",
       "       'SubventionLevel', 'PositionType', 'ItemNumber', 'Taxes', 'Amount',\n",
       "       'Revenue', 'ItemDescription', 'NetTotal', 'StandardPrice',\n",
       "       'KeyCardCounter', 'Weight', 'CurrencyFlag', 'ValidityCard', 'Year'],\n",
       "      dtype='object')"
      ]
     },
     "execution_count": 9,
     "metadata": {},
     "output_type": "execute_result"
    }
   ],
   "source": [
    "dataset.columns"
   ]
  },
  {
   "cell_type": "code",
   "execution_count": 30,
   "metadata": {},
   "outputs": [
    {
     "data": {
      "image/png": "[encoded data removed]",
      "text/plain": [
       "<Figure size 720x720 with 1 Axes>"
      ]
     },
     "metadata": {},
     "output_type": "display_data"
    }
   ],
   "source": [
    "dataset.plot(x='Month', y='Revenue',kind='line', style='o',figsize=(10,10) );"
   ]
  },
  {
   "cell_type": "code",
   "execution_count": 26,
   "metadata": {},
   "outputs": [
    {
     "data": {
      "image/png": "[encoded data removed]",
      "text/plain": [
       "<Figure size 720x720 with 1 Axes>"
      ]
     },
     "metadata": {},
     "output_type": "display_data"
    }
   ],
   "source": [
    "dataset.plot(x='Date', y='NetTotal', style='o',figsize=(10,10));"
   ]
  },
  {
   "cell_type": "code",
   "execution_count": 53,
   "metadata": {},
   "outputs": [
    {
     "data": {
      "text/plain": [
       "Index(['Date', 'Time', 'CashPoint', 'ReceiptNumber', 'Cashier', 'PaymentType',\n",
       "       'CardID', 'Firm', 'Department', 'CostUnit', 'PriceList',\n",
       "       'SubventionLevel', 'PositionType', 'ItemNumber', 'Taxes', 'Amount',\n",
       "       'Revenue', 'ItemDescription', 'NetTotal', 'StandardPrice',\n",
       "       'KeyCardCounter', 'Weight', 'CurrencyFlag', 'ValidityCard', 'Year',\n",
       "       'Month', 'Day'],\n",
       "      dtype='object')"
      ]
     },
     "execution_count": 53,
     "metadata": {},
     "output_type": "execute_result"
    }
   ],
   "source": [
    "dataset.columns"
   ]
  },
  {
   "cell_type": "markdown",
   "metadata": {},
   "source": [
    "### quelques analyses sur les colonnes de revenue e tdu nbr des clients "
   ]
  },
  {
   "cell_type": "code",
   "execution_count": 39,
   "metadata": {},
   "outputs": [
    {
     "data": {
      "text/html": [
       "<div>\n",
       "<style scoped>\n",
       "    .dataframe tbody tr th:only-of-type {\n",
       "        vertical-align: middle;\n",
       "    }\n",
       "\n",
       "    .dataframe tbody tr th {\n",
       "        vertical-align: top;\n",
       "    }\n",
       "\n",
       "    .dataframe thead th {\n",
       "        text-align: right;\n",
       "    }\n",
       "</style>\n",
       "<table border=\"1\" class=\"dataframe\">\n",
       "  <thead>\n",
       "    <tr style=\"text-align: right;\">\n",
       "      <th></th>\n",
       "      <th>Revenue</th>\n",
       "      <th>Month</th>\n",
       "      <th>Day</th>\n",
       "    </tr>\n",
       "  </thead>\n",
       "  <tbody>\n",
       "    <tr>\n",
       "      <th>0</th>\n",
       "      <td>0.20</td>\n",
       "      <td>1</td>\n",
       "      <td>2</td>\n",
       "    </tr>\n",
       "    <tr>\n",
       "      <th>1</th>\n",
       "      <td>0.85</td>\n",
       "      <td>1</td>\n",
       "      <td>2</td>\n",
       "    </tr>\n",
       "    <tr>\n",
       "      <th>2</th>\n",
       "      <td>0.65</td>\n",
       "      <td>1</td>\n",
       "      <td>2</td>\n",
       "    </tr>\n",
       "    <tr>\n",
       "      <th>3</th>\n",
       "      <td>0.25</td>\n",
       "      <td>1</td>\n",
       "      <td>2</td>\n",
       "    </tr>\n",
       "    <tr>\n",
       "      <th>4</th>\n",
       "      <td>0.25</td>\n",
       "      <td>1</td>\n",
       "      <td>2</td>\n",
       "    </tr>\n",
       "    <tr>\n",
       "      <th>5</th>\n",
       "      <td>0.45</td>\n",
       "      <td>1</td>\n",
       "      <td>2</td>\n",
       "    </tr>\n",
       "    <tr>\n",
       "      <th>6</th>\n",
       "      <td>0.25</td>\n",
       "      <td>1</td>\n",
       "      <td>2</td>\n",
       "    </tr>\n",
       "    <tr>\n",
       "      <th>7</th>\n",
       "      <td>0.80</td>\n",
       "      <td>1</td>\n",
       "      <td>2</td>\n",
       "    </tr>\n",
       "  </tbody>\n",
       "</table>\n",
       "</div>"
      ],
      "text/plain": [
       "   Revenue  Month  Day\n",
       "0     0.20      1    2\n",
       "1     0.85      1    2\n",
       "2     0.65      1    2\n",
       "3     0.25      1    2\n",
       "4     0.25      1    2\n",
       "5     0.45      1    2\n",
       "6     0.25      1    2\n",
       "7     0.80      1    2"
      ]
     },
     "execution_count": 39,
     "metadata": {},
     "output_type": "execute_result"
    }
   ],
   "source": [
    "dataset3=dataset.drop(dataset.columns[[0,1,2,3,4,5,6,7,8,9,10,11,12,13,14,15,17,18,19,20,21,22,23,24]], axis=1)\n",
    "dataset3.head(8)"
   ]
  },
  {
   "cell_type": "code",
   "execution_count": 55,
   "metadata": {},
   "outputs": [
    {
     "data": {
      "text/html": [
       "<div>\n",
       "<style scoped>\n",
       "    .dataframe tbody tr th:only-of-type {\n",
       "        vertical-align: middle;\n",
       "    }\n",
       "\n",
       "    .dataframe tbody tr th {\n",
       "        vertical-align: top;\n",
       "    }\n",
       "\n",
       "    .dataframe thead th {\n",
       "        text-align: right;\n",
       "    }\n",
       "</style>\n",
       "<table border=\"1\" class=\"dataframe\">\n",
       "  <thead>\n",
       "    <tr style=\"text-align: right;\">\n",
       "      <th></th>\n",
       "      <th>ReceiptNumber</th>\n",
       "      <th>NetTotal</th>\n",
       "      <th>Month</th>\n",
       "      <th>Day</th>\n",
       "    </tr>\n",
       "  </thead>\n",
       "  <tbody>\n",
       "    <tr>\n",
       "      <th>0</th>\n",
       "      <td>1331376</td>\n",
       "      <td>6.70</td>\n",
       "      <td>1</td>\n",
       "      <td>2</td>\n",
       "    </tr>\n",
       "    <tr>\n",
       "      <th>5</th>\n",
       "      <td>1331377</td>\n",
       "      <td>16.59</td>\n",
       "      <td>1</td>\n",
       "      <td>2</td>\n",
       "    </tr>\n",
       "    <tr>\n",
       "      <th>8</th>\n",
       "      <td>1331378</td>\n",
       "      <td>13.25</td>\n",
       "      <td>1</td>\n",
       "      <td>2</td>\n",
       "    </tr>\n",
       "    <tr>\n",
       "      <th>12</th>\n",
       "      <td>1331379</td>\n",
       "      <td>0.91</td>\n",
       "      <td>1</td>\n",
       "      <td>2</td>\n",
       "    </tr>\n",
       "    <tr>\n",
       "      <th>14</th>\n",
       "      <td>1331380</td>\n",
       "      <td>14.47</td>\n",
       "      <td>1</td>\n",
       "      <td>2</td>\n",
       "    </tr>\n",
       "    <tr>\n",
       "      <th>16</th>\n",
       "      <td>1331381</td>\n",
       "      <td>3.30</td>\n",
       "      <td>1</td>\n",
       "      <td>2</td>\n",
       "    </tr>\n",
       "    <tr>\n",
       "      <th>20</th>\n",
       "      <td>1331382</td>\n",
       "      <td>43.66</td>\n",
       "      <td>1</td>\n",
       "      <td>2</td>\n",
       "    </tr>\n",
       "    <tr>\n",
       "      <th>21</th>\n",
       "      <td>1331383</td>\n",
       "      <td>3.98</td>\n",
       "      <td>1</td>\n",
       "      <td>2</td>\n",
       "    </tr>\n",
       "    <tr>\n",
       "      <th>23</th>\n",
       "      <td>1331384</td>\n",
       "      <td>20.13</td>\n",
       "      <td>1</td>\n",
       "      <td>2</td>\n",
       "    </tr>\n",
       "    <tr>\n",
       "      <th>24</th>\n",
       "      <td>1331385</td>\n",
       "      <td>29.52</td>\n",
       "      <td>1</td>\n",
       "      <td>2</td>\n",
       "    </tr>\n",
       "  </tbody>\n",
       "</table>\n",
       "</div>"
      ],
      "text/plain": [
       "    ReceiptNumber  NetTotal  Month  Day\n",
       "0         1331376      6.70      1    2\n",
       "5         1331377     16.59      1    2\n",
       "8         1331378     13.25      1    2\n",
       "12        1331379      0.91      1    2\n",
       "14        1331380     14.47      1    2\n",
       "16        1331381      3.30      1    2\n",
       "20        1331382     43.66      1    2\n",
       "21        1331383      3.98      1    2\n",
       "23        1331384     20.13      1    2\n",
       "24        1331385     29.52      1    2"
      ]
     },
     "execution_count": 55,
     "metadata": {},
     "output_type": "execute_result"
    }
   ],
   "source": [
    "dataset3=dataset3.drop_duplicates(subset=\"ReceiptNumber\", keep='first', inplace=False)\n",
    "dataset3.head(10)"
   ]
  },
  {
   "cell_type": "code",
   "execution_count": 74,
   "metadata": {},
   "outputs": [
    {
     "data": {
      "text/plain": [
       "108000.18999999999"
      ]
     },
     "execution_count": 74,
     "metadata": {},
     "output_type": "execute_result"
    }
   ],
   "source": [
    "dataset3.loc[dataset3['Month'] == 5, 'Revenue'].sum()   #total NetTotal for month ="
   ]
  },
  {
   "cell_type": "code",
   "execution_count": 41,
   "metadata": {},
   "outputs": [
    {
     "data": {
      "text/html": [
       "<div>\n",
       "<style scoped>\n",
       "    .dataframe tbody tr th:only-of-type {\n",
       "        vertical-align: middle;\n",
       "    }\n",
       "\n",
       "    .dataframe tbody tr th {\n",
       "        vertical-align: top;\n",
       "    }\n",
       "\n",
       "    .dataframe thead th {\n",
       "        text-align: right;\n",
       "    }\n",
       "</style>\n",
       "<table border=\"1\" class=\"dataframe\">\n",
       "  <thead>\n",
       "    <tr style=\"text-align: right;\">\n",
       "      <th></th>\n",
       "      <th>Revenue</th>\n",
       "      <th>Month</th>\n",
       "    </tr>\n",
       "  </thead>\n",
       "  <tbody>\n",
       "    <tr>\n",
       "      <th>0</th>\n",
       "      <td>0.20</td>\n",
       "      <td>1</td>\n",
       "    </tr>\n",
       "    <tr>\n",
       "      <th>1</th>\n",
       "      <td>0.85</td>\n",
       "      <td>1</td>\n",
       "    </tr>\n",
       "    <tr>\n",
       "      <th>2</th>\n",
       "      <td>0.65</td>\n",
       "      <td>1</td>\n",
       "    </tr>\n",
       "  </tbody>\n",
       "</table>\n",
       "</div>"
      ],
      "text/plain": [
       "   Revenue  Month\n",
       "0     0.20      1\n",
       "1     0.85      1\n",
       "2     0.65      1"
      ]
     },
     "execution_count": 41,
     "metadata": {},
     "output_type": "execute_result"
    }
   ],
   "source": [
    "dataset4=dataset3.drop(dataset3.columns[[2]],axis=1)\n",
    "dataset4.head(3)"
   ]
  },
  {
   "cell_type": "code",
   "execution_count": 42,
   "metadata": {},
   "outputs": [
    {
     "data": {
      "text/html": [
       "<div>\n",
       "<style scoped>\n",
       "    .dataframe tbody tr th:only-of-type {\n",
       "        vertical-align: middle;\n",
       "    }\n",
       "\n",
       "    .dataframe tbody tr th {\n",
       "        vertical-align: top;\n",
       "    }\n",
       "\n",
       "    .dataframe thead th {\n",
       "        text-align: right;\n",
       "    }\n",
       "</style>\n",
       "<table border=\"1\" class=\"dataframe\">\n",
       "  <thead>\n",
       "    <tr style=\"text-align: right;\">\n",
       "      <th></th>\n",
       "      <th>Revenue</th>\n",
       "    </tr>\n",
       "    <tr>\n",
       "      <th>Month</th>\n",
       "      <th></th>\n",
       "    </tr>\n",
       "  </thead>\n",
       "  <tbody>\n",
       "    <tr>\n",
       "      <th>1</th>\n",
       "      <td>34883.04</td>\n",
       "    </tr>\n",
       "    <tr>\n",
       "      <th>2</th>\n",
       "      <td>30120.15</td>\n",
       "    </tr>\n",
       "    <tr>\n",
       "      <th>3</th>\n",
       "      <td>31181.28</td>\n",
       "    </tr>\n",
       "    <tr>\n",
       "      <th>4</th>\n",
       "      <td>33263.13</td>\n",
       "    </tr>\n",
       "    <tr>\n",
       "      <th>5</th>\n",
       "      <td>25175.81</td>\n",
       "    </tr>\n",
       "    <tr>\n",
       "      <th>6</th>\n",
       "      <td>28544.99</td>\n",
       "    </tr>\n",
       "    <tr>\n",
       "      <th>7</th>\n",
       "      <td>32958.66</td>\n",
       "    </tr>\n",
       "    <tr>\n",
       "      <th>8</th>\n",
       "      <td>24991.32</td>\n",
       "    </tr>\n",
       "    <tr>\n",
       "      <th>9</th>\n",
       "      <td>28898.47</td>\n",
       "    </tr>\n",
       "    <tr>\n",
       "      <th>10</th>\n",
       "      <td>33096.55</td>\n",
       "    </tr>\n",
       "    <tr>\n",
       "      <th>11</th>\n",
       "      <td>33932.47</td>\n",
       "    </tr>\n",
       "    <tr>\n",
       "      <th>12</th>\n",
       "      <td>25613.93</td>\n",
       "    </tr>\n",
       "  </tbody>\n",
       "</table>\n",
       "</div>"
      ],
      "text/plain": [
       "        Revenue\n",
       "Month          \n",
       "1      34883.04\n",
       "2      30120.15\n",
       "3      31181.28\n",
       "4      33263.13\n",
       "5      25175.81\n",
       "6      28544.99\n",
       "7      32958.66\n",
       "8      24991.32\n",
       "9      28898.47\n",
       "10     33096.55\n",
       "11     33932.47\n",
       "12     25613.93"
      ]
     },
     "execution_count": 42,
     "metadata": {},
     "output_type": "execute_result"
    }
   ],
   "source": [
    "#ou afficher toutes les sorties\n",
    "dataset4.groupby(['Month']).sum()"
   ]
  },
  {
   "cell_type": "markdown",
   "metadata": {},
   "source": [
    "## count nbr clients en éliminants recurrence clients ID per day"
   ]
  },
  {
   "cell_type": "code",
   "execution_count": 44,
   "metadata": {},
   "outputs": [],
   "source": [
    "dataset[\"Day\"]=dataset[\"Date\"].dt.day"
   ]
  },
  {
   "cell_type": "code",
   "execution_count": 47,
   "metadata": {},
   "outputs": [
    {
     "data": {
      "text/html": [
       "<div>\n",
       "<style scoped>\n",
       "    .dataframe tbody tr th:only-of-type {\n",
       "        vertical-align: middle;\n",
       "    }\n",
       "\n",
       "    .dataframe tbody tr th {\n",
       "        vertical-align: top;\n",
       "    }\n",
       "\n",
       "    .dataframe thead th {\n",
       "        text-align: right;\n",
       "    }\n",
       "</style>\n",
       "<table border=\"1\" class=\"dataframe\">\n",
       "  <thead>\n",
       "    <tr style=\"text-align: right;\">\n",
       "      <th></th>\n",
       "      <th>Date</th>\n",
       "      <th>Time</th>\n",
       "      <th>CashPoint</th>\n",
       "      <th>ReceiptNumber</th>\n",
       "      <th>Cashier</th>\n",
       "      <th>PaymentType</th>\n",
       "      <th>CardID</th>\n",
       "      <th>Firm</th>\n",
       "      <th>Department</th>\n",
       "      <th>CostUnit</th>\n",
       "      <th>...</th>\n",
       "      <th>ItemDescription</th>\n",
       "      <th>NetTotal</th>\n",
       "      <th>StandardPrice</th>\n",
       "      <th>KeyCardCounter</th>\n",
       "      <th>Weight</th>\n",
       "      <th>CurrencyFlag</th>\n",
       "      <th>ValidityCard</th>\n",
       "      <th>Year</th>\n",
       "      <th>Month</th>\n",
       "      <th>Day</th>\n",
       "    </tr>\n",
       "  </thead>\n",
       "  <tbody>\n",
       "    <tr>\n",
       "      <th>0</th>\n",
       "      <td>2013-01-02</td>\n",
       "      <td>07:25</td>\n",
       "      <td>1</td>\n",
       "      <td>1331376</td>\n",
       "      <td>3</td>\n",
       "      <td>K/C</td>\n",
       "      <td>30823</td>\n",
       "      <td>11</td>\n",
       "      <td>0</td>\n",
       "      <td>NaN</td>\n",
       "      <td>...</td>\n",
       "      <td>Semmeln</td>\n",
       "      <td>6.7</td>\n",
       "      <td>0,20</td>\n",
       "      <td>1133</td>\n",
       "      <td>0</td>\n",
       "      <td>1</td>\n",
       "      <td>NaN</td>\n",
       "      <td>2013</td>\n",
       "      <td>1</td>\n",
       "      <td>2</td>\n",
       "    </tr>\n",
       "    <tr>\n",
       "      <th>1</th>\n",
       "      <td>2013-01-02</td>\n",
       "      <td>07:25</td>\n",
       "      <td>1</td>\n",
       "      <td>1331376</td>\n",
       "      <td>3</td>\n",
       "      <td>K/C</td>\n",
       "      <td>30823</td>\n",
       "      <td>11</td>\n",
       "      <td>0</td>\n",
       "      <td>NaN</td>\n",
       "      <td>...</td>\n",
       "      <td>Croissant 0,90</td>\n",
       "      <td>6.7</td>\n",
       "      <td>0,85</td>\n",
       "      <td>1133</td>\n",
       "      <td>0</td>\n",
       "      <td>1</td>\n",
       "      <td>NaN</td>\n",
       "      <td>2013</td>\n",
       "      <td>1</td>\n",
       "      <td>2</td>\n",
       "    </tr>\n",
       "    <tr>\n",
       "      <th>2</th>\n",
       "      <td>2013-01-02</td>\n",
       "      <td>07:25</td>\n",
       "      <td>1</td>\n",
       "      <td>1331376</td>\n",
       "      <td>3</td>\n",
       "      <td>K/C</td>\n",
       "      <td>30823</td>\n",
       "      <td>11</td>\n",
       "      <td>0</td>\n",
       "      <td>NaN</td>\n",
       "      <td>...</td>\n",
       "      <td>O-Saft frisch</td>\n",
       "      <td>6.7</td>\n",
       "      <td>0,65</td>\n",
       "      <td>1133</td>\n",
       "      <td>0</td>\n",
       "      <td>1</td>\n",
       "      <td>NaN</td>\n",
       "      <td>2013</td>\n",
       "      <td>1</td>\n",
       "      <td>2</td>\n",
       "    </tr>\n",
       "    <tr>\n",
       "      <th>3</th>\n",
       "      <td>2013-01-02</td>\n",
       "      <td>07:25</td>\n",
       "      <td>1</td>\n",
       "      <td>1331376</td>\n",
       "      <td>3</td>\n",
       "      <td>K/C</td>\n",
       "      <td>30823</td>\n",
       "      <td>11</td>\n",
       "      <td>0</td>\n",
       "      <td>NaN</td>\n",
       "      <td>...</td>\n",
       "      <td>Port. Butter Honig ec</td>\n",
       "      <td>6.7</td>\n",
       "      <td>0,25</td>\n",
       "      <td>1133</td>\n",
       "      <td>0</td>\n",
       "      <td>1</td>\n",
       "      <td>NaN</td>\n",
       "      <td>2013</td>\n",
       "      <td>1</td>\n",
       "      <td>2</td>\n",
       "    </tr>\n",
       "    <tr>\n",
       "      <th>4</th>\n",
       "      <td>2013-01-02</td>\n",
       "      <td>07:25</td>\n",
       "      <td>1</td>\n",
       "      <td>1331376</td>\n",
       "      <td>3</td>\n",
       "      <td>K/C</td>\n",
       "      <td>30823</td>\n",
       "      <td>11</td>\n",
       "      <td>0</td>\n",
       "      <td>NaN</td>\n",
       "      <td>...</td>\n",
       "      <td>Port. Butter Honig ec</td>\n",
       "      <td>6.7</td>\n",
       "      <td>0,25</td>\n",
       "      <td>1133</td>\n",
       "      <td>0</td>\n",
       "      <td>1</td>\n",
       "      <td>NaN</td>\n",
       "      <td>2013</td>\n",
       "      <td>1</td>\n",
       "      <td>2</td>\n",
       "    </tr>\n",
       "  </tbody>\n",
       "</table>\n",
       "<p>5 rows × 27 columns</p>\n",
       "</div>"
      ],
      "text/plain": [
       "        Date   Time  CashPoint  ReceiptNumber  Cashier PaymentType  CardID  \\\n",
       "0 2013-01-02  07:25          1        1331376        3         K/C   30823   \n",
       "1 2013-01-02  07:25          1        1331376        3         K/C   30823   \n",
       "2 2013-01-02  07:25          1        1331376        3         K/C   30823   \n",
       "3 2013-01-02  07:25          1        1331376        3         K/C   30823   \n",
       "4 2013-01-02  07:25          1        1331376        3         K/C   30823   \n",
       "\n",
       "   Firm  Department  CostUnit ...        ItemDescription  NetTotal  \\\n",
       "0    11           0       NaN ...                Semmeln       6.7   \n",
       "1    11           0       NaN ...         Croissant 0,90       6.7   \n",
       "2    11           0       NaN ...          O-Saft frisch       6.7   \n",
       "3    11           0       NaN ...  Port. Butter Honig ec       6.7   \n",
       "4    11           0       NaN ...  Port. Butter Honig ec       6.7   \n",
       "\n",
       "  StandardPrice  KeyCardCounter Weight  CurrencyFlag  ValidityCard  Year  \\\n",
       "0          0,20            1133      0             1           NaN  2013   \n",
       "1          0,85            1133      0             1           NaN  2013   \n",
       "2          0,65            1133      0             1           NaN  2013   \n",
       "3          0,25            1133      0             1           NaN  2013   \n",
       "4          0,25            1133      0             1           NaN  2013   \n",
       "\n",
       "   Month Day  \n",
       "0      1   2  \n",
       "1      1   2  \n",
       "2      1   2  \n",
       "3      1   2  \n",
       "4      1   2  \n",
       "\n",
       "[5 rows x 27 columns]"
      ]
     },
     "execution_count": 47,
     "metadata": {},
     "output_type": "execute_result"
    }
   ],
   "source": [
    "dataset.head()"
   ]
  },
  {
   "cell_type": "code",
   "execution_count": 53,
   "metadata": {},
   "outputs": [
    {
     "data": {
      "text/html": [
       "<div>\n",
       "<style scoped>\n",
       "    .dataframe tbody tr th:only-of-type {\n",
       "        vertical-align: middle;\n",
       "    }\n",
       "\n",
       "    .dataframe tbody tr th {\n",
       "        vertical-align: top;\n",
       "    }\n",
       "\n",
       "    .dataframe thead th {\n",
       "        text-align: right;\n",
       "    }\n",
       "</style>\n",
       "<table border=\"1\" class=\"dataframe\">\n",
       "  <thead>\n",
       "    <tr style=\"text-align: right;\">\n",
       "      <th></th>\n",
       "      <th>CardID</th>\n",
       "      <th>Month</th>\n",
       "      <th>Day</th>\n",
       "    </tr>\n",
       "  </thead>\n",
       "  <tbody>\n",
       "    <tr>\n",
       "      <th>0</th>\n",
       "      <td>30823</td>\n",
       "      <td>1</td>\n",
       "      <td>2</td>\n",
       "    </tr>\n",
       "    <tr>\n",
       "      <th>1</th>\n",
       "      <td>30823</td>\n",
       "      <td>1</td>\n",
       "      <td>2</td>\n",
       "    </tr>\n",
       "    <tr>\n",
       "      <th>2</th>\n",
       "      <td>30823</td>\n",
       "      <td>1</td>\n",
       "      <td>2</td>\n",
       "    </tr>\n",
       "    <tr>\n",
       "      <th>3</th>\n",
       "      <td>30823</td>\n",
       "      <td>1</td>\n",
       "      <td>2</td>\n",
       "    </tr>\n",
       "    <tr>\n",
       "      <th>4</th>\n",
       "      <td>30823</td>\n",
       "      <td>1</td>\n",
       "      <td>2</td>\n",
       "    </tr>\n",
       "  </tbody>\n",
       "</table>\n",
       "</div>"
      ],
      "text/plain": [
       "   CardID  Month  Day\n",
       "0   30823      1    2\n",
       "1   30823      1    2\n",
       "2   30823      1    2\n",
       "3   30823      1    2\n",
       "4   30823      1    2"
      ]
     },
     "execution_count": 53,
     "metadata": {},
     "output_type": "execute_result"
    }
   ],
   "source": [
    "dataset7=dataset.drop(dataset.columns[[0,1,2,3,4,5,7,8,9,10,11,12,13,14,15,16,17,18,19,20,21,22,23,24]], axis=1)\n",
    "dataset7.head()"
   ]
  },
  {
   "cell_type": "code",
   "execution_count": 54,
   "metadata": {},
   "outputs": [
    {
     "data": {
      "text/html": [
       "<div>\n",
       "<style scoped>\n",
       "    .dataframe tbody tr th:only-of-type {\n",
       "        vertical-align: middle;\n",
       "    }\n",
       "\n",
       "    .dataframe tbody tr th {\n",
       "        vertical-align: top;\n",
       "    }\n",
       "\n",
       "    .dataframe thead th {\n",
       "        text-align: right;\n",
       "    }\n",
       "</style>\n",
       "<table border=\"1\" class=\"dataframe\">\n",
       "  <thead>\n",
       "    <tr style=\"text-align: right;\">\n",
       "      <th></th>\n",
       "      <th>CardID</th>\n",
       "      <th>Month</th>\n",
       "      <th>Day</th>\n",
       "    </tr>\n",
       "  </thead>\n",
       "  <tbody>\n",
       "    <tr>\n",
       "      <th>0</th>\n",
       "      <td>30823</td>\n",
       "      <td>1</td>\n",
       "      <td>2</td>\n",
       "    </tr>\n",
       "    <tr>\n",
       "      <th>5</th>\n",
       "      <td>45354</td>\n",
       "      <td>1</td>\n",
       "      <td>2</td>\n",
       "    </tr>\n",
       "    <tr>\n",
       "      <th>8</th>\n",
       "      <td>12690</td>\n",
       "      <td>1</td>\n",
       "      <td>2</td>\n",
       "    </tr>\n",
       "    <tr>\n",
       "      <th>12</th>\n",
       "      <td>22091</td>\n",
       "      <td>1</td>\n",
       "      <td>2</td>\n",
       "    </tr>\n",
       "    <tr>\n",
       "      <th>14</th>\n",
       "      <td>17903</td>\n",
       "      <td>1</td>\n",
       "      <td>2</td>\n",
       "    </tr>\n",
       "  </tbody>\n",
       "</table>\n",
       "</div>"
      ],
      "text/plain": [
       "    CardID  Month  Day\n",
       "0    30823      1    2\n",
       "5    45354      1    2\n",
       "8    12690      1    2\n",
       "12   22091      1    2\n",
       "14   17903      1    2"
      ]
     },
     "execution_count": 54,
     "metadata": {},
     "output_type": "execute_result"
    }
   ],
   "source": [
    "dataset7=dataset7.drop_duplicates(subset=(\"CardID\",\"Day\"), keep='first', inplace=False)\n",
    "dataset7.head()"
   ]
  },
  {
   "cell_type": "code",
   "execution_count": 62,
   "metadata": {},
   "outputs": [
    {
     "data": {
      "text/html": [
       "<div>\n",
       "<style scoped>\n",
       "    .dataframe tbody tr th:only-of-type {\n",
       "        vertical-align: middle;\n",
       "    }\n",
       "\n",
       "    .dataframe tbody tr th {\n",
       "        vertical-align: top;\n",
       "    }\n",
       "\n",
       "    .dataframe thead th {\n",
       "        text-align: right;\n",
       "    }\n",
       "</style>\n",
       "<table border=\"1\" class=\"dataframe\">\n",
       "  <thead>\n",
       "    <tr style=\"text-align: right;\">\n",
       "      <th></th>\n",
       "      <th>CardID</th>\n",
       "      <th>Month</th>\n",
       "    </tr>\n",
       "  </thead>\n",
       "  <tbody>\n",
       "    <tr>\n",
       "      <th>0</th>\n",
       "      <td>30823</td>\n",
       "      <td>1</td>\n",
       "    </tr>\n",
       "    <tr>\n",
       "      <th>5</th>\n",
       "      <td>45354</td>\n",
       "      <td>1</td>\n",
       "    </tr>\n",
       "    <tr>\n",
       "      <th>8</th>\n",
       "      <td>12690</td>\n",
       "      <td>1</td>\n",
       "    </tr>\n",
       "    <tr>\n",
       "      <th>12</th>\n",
       "      <td>22091</td>\n",
       "      <td>1</td>\n",
       "    </tr>\n",
       "    <tr>\n",
       "      <th>14</th>\n",
       "      <td>17903</td>\n",
       "      <td>1</td>\n",
       "    </tr>\n",
       "  </tbody>\n",
       "</table>\n",
       "</div>"
      ],
      "text/plain": [
       "    CardID  Month\n",
       "0    30823      1\n",
       "5    45354      1\n",
       "8    12690      1\n",
       "12   22091      1\n",
       "14   17903      1"
      ]
     },
     "execution_count": 62,
     "metadata": {},
     "output_type": "execute_result"
    }
   ],
   "source": [
    "datasetnbrmonth=dataset7.drop(dataset7.columns[[2]],axis=1)\n",
    "datasetnbrmonth.head()"
   ]
  },
  {
   "cell_type": "code",
   "execution_count": 64,
   "metadata": {},
   "outputs": [
    {
     "data": {
      "text/html": [
       "<div>\n",
       "<style scoped>\n",
       "    .dataframe tbody tr th:only-of-type {\n",
       "        vertical-align: middle;\n",
       "    }\n",
       "\n",
       "    .dataframe tbody tr th {\n",
       "        vertical-align: top;\n",
       "    }\n",
       "\n",
       "    .dataframe thead th {\n",
       "        text-align: right;\n",
       "    }\n",
       "</style>\n",
       "<table border=\"1\" class=\"dataframe\">\n",
       "  <thead>\n",
       "    <tr style=\"text-align: right;\">\n",
       "      <th></th>\n",
       "      <th>CardID</th>\n",
       "    </tr>\n",
       "    <tr>\n",
       "      <th>Month</th>\n",
       "      <th></th>\n",
       "    </tr>\n",
       "  </thead>\n",
       "  <tbody>\n",
       "    <tr>\n",
       "      <th>1</th>\n",
       "      <td>8669</td>\n",
       "    </tr>\n",
       "    <tr>\n",
       "      <th>2</th>\n",
       "      <td>3956</td>\n",
       "    </tr>\n",
       "    <tr>\n",
       "      <th>3</th>\n",
       "      <td>2250</td>\n",
       "    </tr>\n",
       "    <tr>\n",
       "      <th>4</th>\n",
       "      <td>2653</td>\n",
       "    </tr>\n",
       "    <tr>\n",
       "      <th>5</th>\n",
       "      <td>1581</td>\n",
       "    </tr>\n",
       "    <tr>\n",
       "      <th>6</th>\n",
       "      <td>1543</td>\n",
       "    </tr>\n",
       "    <tr>\n",
       "      <th>7</th>\n",
       "      <td>1780</td>\n",
       "    </tr>\n",
       "    <tr>\n",
       "      <th>8</th>\n",
       "      <td>1439</td>\n",
       "    </tr>\n",
       "    <tr>\n",
       "      <th>9</th>\n",
       "      <td>1257</td>\n",
       "    </tr>\n",
       "    <tr>\n",
       "      <th>10</th>\n",
       "      <td>1441</td>\n",
       "    </tr>\n",
       "    <tr>\n",
       "      <th>11</th>\n",
       "      <td>1743</td>\n",
       "    </tr>\n",
       "    <tr>\n",
       "      <th>12</th>\n",
       "      <td>1023</td>\n",
       "    </tr>\n",
       "  </tbody>\n",
       "</table>\n",
       "</div>"
      ],
      "text/plain": [
       "       CardID\n",
       "Month        \n",
       "1        8669\n",
       "2        3956\n",
       "3        2250\n",
       "4        2653\n",
       "5        1581\n",
       "6        1543\n",
       "7        1780\n",
       "8        1439\n",
       "9        1257\n",
       "10       1441\n",
       "11       1743\n",
       "12       1023"
      ]
     },
     "execution_count": 64,
     "metadata": {},
     "output_type": "execute_result"
    }
   ],
   "source": [
    "datasetnbrmonth.groupby(['Month']).count()   #nombre clienst par mois"
   ]
  },
  {
   "cell_type": "code",
   "execution_count": null,
   "metadata": {},
   "outputs": [],
   "source": []
  },
  {
   "cell_type": "markdown",
   "metadata": {},
   "source": [
    "## END"
   ]
  },
  {
   "cell_type": "code",
   "execution_count": 81,
   "metadata": {},
   "outputs": [
    {
     "data": {
      "text/html": [
       "<div>\n",
       "<style scoped>\n",
       "    .dataframe tbody tr th:only-of-type {\n",
       "        vertical-align: middle;\n",
       "    }\n",
       "\n",
       "    .dataframe tbody tr th {\n",
       "        vertical-align: top;\n",
       "    }\n",
       "\n",
       "    .dataframe thead th {\n",
       "        text-align: right;\n",
       "    }\n",
       "</style>\n",
       "<table border=\"1\" class=\"dataframe\">\n",
       "  <thead>\n",
       "    <tr style=\"text-align: right;\">\n",
       "      <th></th>\n",
       "      <th>NetTotal</th>\n",
       "      <th>Month</th>\n",
       "    </tr>\n",
       "  </thead>\n",
       "  <tbody>\n",
       "    <tr>\n",
       "      <th>0</th>\n",
       "      <td>6.70</td>\n",
       "      <td>2</td>\n",
       "    </tr>\n",
       "    <tr>\n",
       "      <th>5</th>\n",
       "      <td>16.59</td>\n",
       "      <td>2</td>\n",
       "    </tr>\n",
       "    <tr>\n",
       "      <th>8</th>\n",
       "      <td>13.25</td>\n",
       "      <td>2</td>\n",
       "    </tr>\n",
       "    <tr>\n",
       "      <th>12</th>\n",
       "      <td>0.91</td>\n",
       "      <td>2</td>\n",
       "    </tr>\n",
       "    <tr>\n",
       "      <th>14</th>\n",
       "      <td>14.47</td>\n",
       "      <td>2</td>\n",
       "    </tr>\n",
       "  </tbody>\n",
       "</table>\n",
       "</div>"
      ],
      "text/plain": [
       "    NetTotal  Month\n",
       "0       6.70      2\n",
       "5      16.59      2\n",
       "8      13.25      2\n",
       "12      0.91      2\n",
       "14     14.47      2"
      ]
     },
     "execution_count": 81,
     "metadata": {},
     "output_type": "execute_result"
    }
   ],
   "source": [
    "dataset4.head()\n"
   ]
  },
  {
   "cell_type": "code",
   "execution_count": 48,
   "metadata": {},
   "outputs": [
    {
     "data": {
      "text/plain": [
       "<BarContainer object of 125213 artists>"
      ]
     },
     "execution_count": 48,
     "metadata": {},
     "output_type": "execute_result"
    }
   ],
   "source": [
    "ax.bar(dataset4.index, dataset4['NetTotal'])"
   ]
  },
  {
   "cell_type": "code",
   "execution_count": 83,
   "metadata": {},
   "outputs": [
    {
     "data": {
      "text/plain": [
       "<matplotlib.axes._subplots.AxesSubplot at 0x232c8ab1358>"
      ]
     },
     "execution_count": 83,
     "metadata": {},
     "output_type": "execute_result"
    }
   ],
   "source": [
    "ax"
   ]
  },
  {
   "cell_type": "code",
   "execution_count": 80,
   "metadata": {},
   "outputs": [
    {
     "data": {
      "text/html": [
       "<div>\n",
       "<style scoped>\n",
       "    .dataframe tbody tr th:only-of-type {\n",
       "        vertical-align: middle;\n",
       "    }\n",
       "\n",
       "    .dataframe tbody tr th {\n",
       "        vertical-align: top;\n",
       "    }\n",
       "\n",
       "    .dataframe thead th {\n",
       "        text-align: right;\n",
       "    }\n",
       "</style>\n",
       "<table border=\"1\" class=\"dataframe\">\n",
       "  <thead>\n",
       "    <tr style=\"text-align: right;\">\n",
       "      <th></th>\n",
       "      <th>ReceiptNumber</th>\n",
       "      <th>NetTotal</th>\n",
       "      <th>Month</th>\n",
       "    </tr>\n",
       "  </thead>\n",
       "  <tbody>\n",
       "    <tr>\n",
       "      <th>0</th>\n",
       "      <td>1331376</td>\n",
       "      <td>6.70</td>\n",
       "      <td>2</td>\n",
       "    </tr>\n",
       "    <tr>\n",
       "      <th>5</th>\n",
       "      <td>1331377</td>\n",
       "      <td>16.59</td>\n",
       "      <td>2</td>\n",
       "    </tr>\n",
       "    <tr>\n",
       "      <th>8</th>\n",
       "      <td>1331378</td>\n",
       "      <td>13.25</td>\n",
       "      <td>2</td>\n",
       "    </tr>\n",
       "    <tr>\n",
       "      <th>12</th>\n",
       "      <td>1331379</td>\n",
       "      <td>0.91</td>\n",
       "      <td>2</td>\n",
       "    </tr>\n",
       "    <tr>\n",
       "      <th>14</th>\n",
       "      <td>1331380</td>\n",
       "      <td>14.47</td>\n",
       "      <td>2</td>\n",
       "    </tr>\n",
       "  </tbody>\n",
       "</table>\n",
       "</div>"
      ],
      "text/plain": [
       "    ReceiptNumber  NetTotal  Month\n",
       "0         1331376      6.70      2\n",
       "5         1331377     16.59      2\n",
       "8         1331378     13.25      2\n",
       "12        1331379      0.91      2\n",
       "14        1331380     14.47      2"
      ]
     },
     "execution_count": 80,
     "metadata": {},
     "output_type": "execute_result"
    }
   ],
   "source": [
    "dataset3.head()"
   ]
  },
  {
   "cell_type": "code",
   "execution_count": 42,
   "metadata": {},
   "outputs": [
    {
     "data": {
      "text/plain": [
       "<matplotlib.axes._subplots.AxesSubplot at 0x232ed6d1c18>"
      ]
     },
     "execution_count": 42,
     "metadata": {},
     "output_type": "execute_result"
    },
    {
     "data": {
      "image/png": "[encoded data removed]",
      "text/plain": [
       "<Figure size 1080x504 with 1 Axes>"
      ]
     },
     "metadata": {},
     "output_type": "display_data"
    }
   ],
   "source": [
    "dataset4.set_index('Date',inplace=True)\n",
    "\n",
    "#plot data\n",
    "fig, ax = plt.subplots(figsize=(15,7))\n",
    "dataset4.plot(ax=ax)\n"
   ]
  },
  {
   "cell_type": "code",
   "execution_count": 100,
   "metadata": {},
   "outputs": [
    {
     "data": {
      "text/plain": [
       "{'_is_copy': None, '_data': BlockManager\n",
       " Items: Index(['NetTotal'], dtype='object')\n",
       " Axis 1: DatetimeIndex(['2013-02-01', '2013-02-01', '2013-02-01', '2013-02-01',\n",
       "                '2013-02-01', '2013-02-01', '2013-02-01', '2013-02-01',\n",
       "                '2013-02-01', '2013-02-01',\n",
       "                ...\n",
       "                '2013-12-20', '2013-12-20', '2013-12-20', '2013-12-20',\n",
       "                '2013-12-20', '2013-12-20', '2013-12-20', '2013-12-20',\n",
       "                '2013-12-20', '2013-12-20'],\n",
       "               dtype='datetime64[ns]', name='Date', length=125213, freq=None)\n",
       " FloatBlock: slice(0, 1, 1), 1 x 125213, dtype: float64, '_item_cache': {}, 'plot': <pandas.plotting._core.FramePlotMethods object at 0x00000217B6D952E8>}"
      ]
     },
     "execution_count": 100,
     "metadata": {},
     "output_type": "execute_result"
    }
   ],
   "source": [
    "dataset4.__dict__"
   ]
  },
  {
   "cell_type": "code",
   "execution_count": 49,
   "metadata": {},
   "outputs": [],
   "source": [
    "tableau=dataset4.values"
   ]
  },
  {
   "cell_type": "code",
   "execution_count": 50,
   "metadata": {},
   "outputs": [
    {
     "data": {
      "text/plain": [
       "(125213, 1)"
      ]
     },
     "execution_count": 50,
     "metadata": {},
     "output_type": "execute_result"
    }
   ],
   "source": [
    "tableau.shape"
   ]
  },
  {
   "cell_type": "code",
   "execution_count": 51,
   "metadata": {},
   "outputs": [],
   "source": [
    "tableau=tableau.reshape(125213,1);"
   ]
  },
  {
   "cell_type": "code",
   "execution_count": 52,
   "metadata": {},
   "outputs": [
    {
     "data": {
      "text/plain": [
       "(125213, 1)"
      ]
     },
     "execution_count": 52,
     "metadata": {},
     "output_type": "execute_result"
    }
   ],
   "source": [
    "tableau.shape"
   ]
  },
  {
   "cell_type": "code",
   "execution_count": 53,
   "metadata": {},
   "outputs": [],
   "source": [
    "from sklearn.preprocessing import StandardScaler"
   ]
  },
  {
   "cell_type": "code",
   "execution_count": 54,
   "metadata": {},
   "outputs": [],
   "source": [
    "sc = StandardScaler()"
   ]
  },
  {
   "cell_type": "code",
   "execution_count": 55,
   "metadata": {},
   "outputs": [],
   "source": [
    "tableau_cr=sc.fit_transform(tableau)"
   ]
  },
  {
   "cell_type": "code",
   "execution_count": 56,
   "metadata": {},
   "outputs": [
    {
     "data": {
      "text/plain": [
       "array([[ 6.7 ],\n",
       "       [16.59],\n",
       "       [13.25],\n",
       "       ...,\n",
       "       [ 6.15],\n",
       "       [ 6.35],\n",
       "       [ 4.59]])"
      ]
     },
     "execution_count": 56,
     "metadata": {},
     "output_type": "execute_result"
    }
   ],
   "source": [
    "tableau"
   ]
  },
  {
   "cell_type": "code",
   "execution_count": 57,
   "metadata": {},
   "outputs": [
    {
     "data": {
      "text/plain": [
       "(array([9.4904e+04, 2.1455e+04, 7.7150e+03, 1.0390e+03, 9.6000e+01,\n",
       "        2.0000e+00, 0.0000e+00, 1.0000e+00, 0.0000e+00, 1.0000e+00]),\n",
       " array([  0.   ,  17.772,  35.544,  53.316,  71.088,  88.86 , 106.632,\n",
       "        124.404, 142.176, 159.948, 177.72 ]),\n",
       " <a list of 10 Patch objects>)"
      ]
     },
     "execution_count": 57,
     "metadata": {},
     "output_type": "execute_result"
    },
    {
     "data": {
      "image/png": "[encoded data removed]",
      "text/plain": [
       "<Figure size 432x288 with 1 Axes>"
      ]
     },
     "metadata": {},
     "output_type": "display_data"
    }
   ],
   "source": [
    "plt.hist(tableau)"
   ]
  },
  {
   "cell_type": "code",
   "execution_count": 63,
   "metadata": {},
   "outputs": [
    {
     "data": {
      "text/html": [
       "<div>\n",
       "<style scoped>\n",
       "    .dataframe tbody tr th:only-of-type {\n",
       "        vertical-align: middle;\n",
       "    }\n",
       "\n",
       "    .dataframe tbody tr th {\n",
       "        vertical-align: top;\n",
       "    }\n",
       "\n",
       "    .dataframe thead th {\n",
       "        text-align: right;\n",
       "    }\n",
       "</style>\n",
       "<table border=\"1\" class=\"dataframe\">\n",
       "  <thead>\n",
       "    <tr style=\"text-align: right;\">\n",
       "      <th></th>\n",
       "      <th>NetTotal</th>\n",
       "    </tr>\n",
       "    <tr>\n",
       "      <th>Month</th>\n",
       "      <th></th>\n",
       "    </tr>\n",
       "  </thead>\n",
       "  <tbody>\n",
       "    <tr>\n",
       "      <th>1</th>\n",
       "      <td>130993.08</td>\n",
       "    </tr>\n",
       "    <tr>\n",
       "      <th>2</th>\n",
       "      <td>135554.26</td>\n",
       "    </tr>\n",
       "    <tr>\n",
       "      <th>3</th>\n",
       "      <td>127515.09</td>\n",
       "    </tr>\n",
       "    <tr>\n",
       "      <th>4</th>\n",
       "      <td>147994.70</td>\n",
       "    </tr>\n",
       "    <tr>\n",
       "      <th>5</th>\n",
       "      <td>134769.05</td>\n",
       "    </tr>\n",
       "    <tr>\n",
       "      <th>6</th>\n",
       "      <td>129459.42</td>\n",
       "    </tr>\n",
       "    <tr>\n",
       "      <th>7</th>\n",
       "      <td>139867.56</td>\n",
       "    </tr>\n",
       "    <tr>\n",
       "      <th>8</th>\n",
       "      <td>126416.49</td>\n",
       "    </tr>\n",
       "    <tr>\n",
       "      <th>9</th>\n",
       "      <td>128120.73</td>\n",
       "    </tr>\n",
       "    <tr>\n",
       "      <th>10</th>\n",
       "      <td>156801.12</td>\n",
       "    </tr>\n",
       "    <tr>\n",
       "      <th>11</th>\n",
       "      <td>173449.53</td>\n",
       "    </tr>\n",
       "    <tr>\n",
       "      <th>12</th>\n",
       "      <td>110058.54</td>\n",
       "    </tr>\n",
       "  </tbody>\n",
       "</table>\n",
       "</div>"
      ],
      "text/plain": [
       "        NetTotal\n",
       "Month           \n",
       "1      130993.08\n",
       "2      135554.26\n",
       "3      127515.09\n",
       "4      147994.70\n",
       "5      134769.05\n",
       "6      129459.42\n",
       "7      139867.56\n",
       "8      126416.49\n",
       "9      128120.73\n",
       "10     156801.12\n",
       "11     173449.53\n",
       "12     110058.54"
      ]
     },
     "execution_count": 63,
     "metadata": {},
     "output_type": "execute_result"
    }
   ],
   "source": [
    "\n",
    "dataset4.groupby(['ReceiptNumber']).count()"
   ]
  },
  {
   "cell_type": "code",
   "execution_count": 12,
   "metadata": {},
   "outputs": [
    {
     "data": {
      "text/html": [
       "<div>\n",
       "<style scoped>\n",
       "    .dataframe tbody tr th:only-of-type {\n",
       "        vertical-align: middle;\n",
       "    }\n",
       "\n",
       "    .dataframe tbody tr th {\n",
       "        vertical-align: top;\n",
       "    }\n",
       "\n",
       "    .dataframe thead th {\n",
       "        text-align: right;\n",
       "    }\n",
       "</style>\n",
       "<table border=\"1\" class=\"dataframe\">\n",
       "  <thead>\n",
       "    <tr style=\"text-align: right;\">\n",
       "      <th></th>\n",
       "      <th>Date</th>\n",
       "      <th>CardID</th>\n",
       "      <th>Month</th>\n",
       "      <th>Day</th>\n",
       "    </tr>\n",
       "  </thead>\n",
       "  <tbody>\n",
       "    <tr>\n",
       "      <th>267704</th>\n",
       "      <td>2013-12-20</td>\n",
       "      <td>36471</td>\n",
       "      <td>12</td>\n",
       "      <td>20</td>\n",
       "    </tr>\n",
       "    <tr>\n",
       "      <th>267705</th>\n",
       "      <td>2013-12-20</td>\n",
       "      <td>36891</td>\n",
       "      <td>12</td>\n",
       "      <td>20</td>\n",
       "    </tr>\n",
       "    <tr>\n",
       "      <th>267706</th>\n",
       "      <td>2013-12-20</td>\n",
       "      <td>36891</td>\n",
       "      <td>12</td>\n",
       "      <td>20</td>\n",
       "    </tr>\n",
       "    <tr>\n",
       "      <th>267707</th>\n",
       "      <td>2013-12-20</td>\n",
       "      <td>85161</td>\n",
       "      <td>12</td>\n",
       "      <td>20</td>\n",
       "    </tr>\n",
       "    <tr>\n",
       "      <th>267708</th>\n",
       "      <td>2013-12-20</td>\n",
       "      <td>85161</td>\n",
       "      <td>12</td>\n",
       "      <td>20</td>\n",
       "    </tr>\n",
       "  </tbody>\n",
       "</table>\n",
       "</div>"
      ],
      "text/plain": [
       "             Date  CardID  Month  Day\n",
       "267704 2013-12-20   36471     12   20\n",
       "267705 2013-12-20   36891     12   20\n",
       "267706 2013-12-20   36891     12   20\n",
       "267707 2013-12-20   85161     12   20\n",
       "267708 2013-12-20   85161     12   20"
      ]
     },
     "execution_count": 12,
     "metadata": {},
     "output_type": "execute_result"
    }
   ],
   "source": [
    "dataset6.tail()"
   ]
  },
  {
   "cell_type": "code",
   "execution_count": 42,
   "metadata": {},
   "outputs": [],
   "source": [
    "dataset6=dataset.drop(dataset.columns[[1,2,3,4,5,7,8,9,10,11,12,13,14,15,16,17,18,19,20,21,22,23,24]], axis=1)"
   ]
  },
  {
   "cell_type": "code",
   "execution_count": 7,
   "metadata": {},
   "outputs": [],
   "source": [
    "date=dataset[\"Date\"].values"
   ]
  },
  {
   "cell_type": "code",
   "execution_count": 9,
   "metadata": {},
   "outputs": [
    {
     "data": {
      "text/plain": [
       "267709"
      ]
     },
     "execution_count": 9,
     "metadata": {},
     "output_type": "execute_result"
    }
   ],
   "source": [
    "len(L)"
   ]
  },
  {
   "cell_type": "code",
   "execution_count": 8,
   "metadata": {},
   "outputs": [],
   "source": [
    "L=[]\n",
    "for i in range(len(date)):\n",
    "    L.append(date[i])"
   ]
  },
  {
   "cell_type": "code",
   "execution_count": 10,
   "metadata": {},
   "outputs": [
    {
     "data": {
      "text/plain": [
       "str"
      ]
     },
     "execution_count": 10,
     "metadata": {},
     "output_type": "execute_result"
    }
   ],
   "source": [
    "type(L[1])"
   ]
  },
  {
   "cell_type": "code",
   "execution_count": 23,
   "metadata": {},
   "outputs": [],
   "source": [
    "date=np.array2string(date)"
   ]
  },
  {
   "cell_type": "code",
   "execution_count": 62,
   "metadata": {},
   "outputs": [
    {
     "data": {
      "text/plain": [
       "dtype('float64')"
      ]
     },
     "execution_count": 62,
     "metadata": {},
     "output_type": "execute_result"
    }
   ],
   "source": [
    "dataset6[\"Month\"].dtypes"
   ]
  },
  {
   "cell_type": "code",
   "execution_count": null,
   "metadata": {},
   "outputs": [],
   "source": []
  },
  {
   "cell_type": "code",
   "execution_count": 45,
   "metadata": {},
   "outputs": [],
   "source": [
    "dataset6.loc[dataset6['Date'] == \"2013-12-20\" ]=dataset6.loc[dataset6['Date'] ==\"2013-12-20\"].drop_duplicates(subset=\"CardID\", keep='first', inplace=False)\n"
   ]
  },
  {
   "cell_type": "code",
   "execution_count": null,
   "metadata": {},
   "outputs": [],
   "source": [
    "dataset6 = dataset6.dropna(axis=0, subset=['Date'])"
   ]
  },
  {
   "cell_type": "code",
   "execution_count": 150,
   "metadata": {},
   "outputs": [],
   "source": [
    "d=pd.DataFrame(dataset6[\"Date\"])"
   ]
  },
  {
   "cell_type": "code",
   "execution_count": 151,
   "metadata": {},
   "outputs": [
    {
     "data": {
      "text/plain": [
       "pandas.core.frame.DataFrame"
      ]
     },
     "execution_count": 151,
     "metadata": {},
     "output_type": "execute_result"
    }
   ],
   "source": [
    "type(d)"
   ]
  },
  {
   "cell_type": "code",
   "execution_count": 35,
   "metadata": {},
   "outputs": [
    {
     "ename": "NameError",
     "evalue": "name 'dataset6' is not defined",
     "output_type": "error",
     "traceback": [
      "\u001b[1;31m---------------------------------------------------------------------------\u001b[0m",
      "\u001b[1;31mNameError\u001b[0m                                 Traceback (most recent call last)",
      "\u001b[1;32m<ipython-input-35-37f8c0edc65f>\u001b[0m in \u001b[0;36m<module>\u001b[1;34m()\u001b[0m\n\u001b[1;32m----> 1\u001b[1;33m \u001b[0mdataset6\u001b[0m\u001b[1;33m.\u001b[0m\u001b[0mloc\u001b[0m\u001b[1;33m[\u001b[0m\u001b[0mdataset6\u001b[0m\u001b[1;33m[\u001b[0m\u001b[1;34m'Date'\u001b[0m\u001b[1;33m]\u001b[0m \u001b[1;33m==\u001b[0m \u001b[1;34m\"2013-12-20\"\u001b[0m \u001b[1;33m]\u001b[0m\u001b[1;33m.\u001b[0m\u001b[0mduplicated\u001b[0m\u001b[1;33m(\u001b[0m\u001b[1;33m)\u001b[0m\u001b[1;33m.\u001b[0m\u001b[0mvalue_counts\u001b[0m\u001b[1;33m(\u001b[0m\u001b[1;33m)\u001b[0m\u001b[1;33m\u001b[0m\u001b[0m\n\u001b[0m",
      "\u001b[1;31mNameError\u001b[0m: name 'dataset6' is not defined"
     ]
    }
   ],
   "source": [
    "dataset6.loc[dataset6['Date'] == \"2013-12-20\" ].duplicated().value_counts()"
   ]
  },
  {
   "cell_type": "code",
   "execution_count": 20,
   "metadata": {},
   "outputs": [
    {
     "data": {
      "text/plain": [
       "'2'"
      ]
     },
     "execution_count": 20,
     "metadata": {},
     "output_type": "execute_result"
    }
   ],
   "source": [
    "date[3]"
   ]
  },
  {
   "cell_type": "code",
   "execution_count": 50,
   "metadata": {},
   "outputs": [],
   "source": [
    "from datetime import datetime\n",
    "dataset6 = dataset6.dropna(axis=0, subset=['Date'])"
   ]
  },
  {
   "cell_type": "code",
   "execution_count": 2,
   "metadata": {},
   "outputs": [],
   "source": [
    "for i in range(len(L)):\n",
    "    dataset6.loc[dataset6['Date'] == L[i] ]=dataset6.loc[dataset6['Date'] == L[i]].drop_duplicates(subset=\"CardID\", keep='first', inplace=False)"
   ]
  },
  {
   "cell_type": "code",
   "execution_count": 49,
   "metadata": {},
   "outputs": [
    {
     "data": {
      "text/plain": [
       "False    5\n",
       "dtype: int64"
      ]
     },
     "execution_count": 49,
     "metadata": {},
     "output_type": "execute_result"
    }
   ],
   "source": [
    "dataset6.head().duplicated(\"CardID\").value_counts()"
   ]
  },
  {
   "cell_type": "code",
   "execution_count": null,
   "metadata": {},
   "outputs": [],
   "source": []
  },
  {
   "cell_type": "code",
   "execution_count": null,
   "metadata": {},
   "outputs": [],
   "source": [
    "dataset6.loc[dataset6['Date'] == \"2013-12-20\" ].duplicated().value_counts()"
   ]
  },
  {
   "cell_type": "code",
   "execution_count": 76,
   "metadata": {},
   "outputs": [],
   "source": [
    "datecol=dataset[\"Date\"].tolist()"
   ]
  },
  {
   "cell_type": "code",
   "execution_count": 93,
   "metadata": {},
   "outputs": [
    {
     "data": {
      "text/plain": [
       "'02.01.2013'"
      ]
     },
     "execution_count": 93,
     "metadata": {},
     "output_type": "execute_result"
    }
   ],
   "source": [
    "datecol[0]"
   ]
  },
  {
   "cell_type": "code",
   "execution_count": 17,
   "metadata": {},
   "outputs": [
    {
     "data": {
      "text/html": [
       "<div>\n",
       "<style scoped>\n",
       "    .dataframe tbody tr th:only-of-type {\n",
       "        vertical-align: middle;\n",
       "    }\n",
       "\n",
       "    .dataframe tbody tr th {\n",
       "        vertical-align: top;\n",
       "    }\n",
       "\n",
       "    .dataframe thead th {\n",
       "        text-align: right;\n",
       "    }\n",
       "</style>\n",
       "<table border=\"1\" class=\"dataframe\">\n",
       "  <thead>\n",
       "    <tr style=\"text-align: right;\">\n",
       "      <th></th>\n",
       "      <th>Date</th>\n",
       "      <th>CardID</th>\n",
       "      <th>Month</th>\n",
       "      <th>Day</th>\n",
       "    </tr>\n",
       "  </thead>\n",
       "  <tbody>\n",
       "    <tr>\n",
       "      <th>0</th>\n",
       "      <td>2013-01-02</td>\n",
       "      <td>30823</td>\n",
       "      <td>1</td>\n",
       "      <td>2</td>\n",
       "    </tr>\n",
       "    <tr>\n",
       "      <th>1</th>\n",
       "      <td>2013-01-02</td>\n",
       "      <td>30823</td>\n",
       "      <td>1</td>\n",
       "      <td>2</td>\n",
       "    </tr>\n",
       "    <tr>\n",
       "      <th>2</th>\n",
       "      <td>2013-01-02</td>\n",
       "      <td>30823</td>\n",
       "      <td>1</td>\n",
       "      <td>2</td>\n",
       "    </tr>\n",
       "    <tr>\n",
       "      <th>3</th>\n",
       "      <td>2013-01-02</td>\n",
       "      <td>30823</td>\n",
       "      <td>1</td>\n",
       "      <td>2</td>\n",
       "    </tr>\n",
       "    <tr>\n",
       "      <th>4</th>\n",
       "      <td>2013-01-02</td>\n",
       "      <td>30823</td>\n",
       "      <td>1</td>\n",
       "      <td>2</td>\n",
       "    </tr>\n",
       "  </tbody>\n",
       "</table>\n",
       "</div>"
      ],
      "text/plain": [
       "        Date  CardID  Month  Day\n",
       "0 2013-01-02   30823      1    2\n",
       "1 2013-01-02   30823      1    2\n",
       "2 2013-01-02   30823      1    2\n",
       "3 2013-01-02   30823      1    2\n",
       "4 2013-01-02   30823      1    2"
      ]
     },
     "execution_count": 17,
     "metadata": {},
     "output_type": "execute_result"
    }
   ],
   "source": [
    "dataset6.head()"
   ]
  },
  {
   "cell_type": "code",
   "execution_count": 60,
   "metadata": {},
   "outputs": [],
   "source": [
    "dataset6[\"Date\"]=dataset6.drop_duplicates(subset=\"CardID\", keep='first', inplace=False)"
   ]
  },
  {
   "cell_type": "code",
   "execution_count": 91,
   "metadata": {},
   "outputs": [],
   "source": [
    "#dataset6[\"Date\"]==\"2013-01-02\""
   ]
  },
  {
   "cell_type": "code",
   "execution_count": null,
   "metadata": {},
   "outputs": [],
   "source": [
    "dataset6=dataset6.drop_duplicates(subset=\"CardID\", keep='first', inplace=False)"
   ]
  },
  {
   "cell_type": "code",
   "execution_count": 30,
   "metadata": {},
   "outputs": [],
   "source": [
    "dataset6.loc[dataset6['Date'] ==\"2013-01-02\"]=dataset6.loc[dataset6['Date'] ==\"2013-01-02\"].drop_duplicates(subset=\"CardID\", keep='first', inplace=False)\n"
   ]
  },
  {
   "cell_type": "code",
   "execution_count": 48,
   "metadata": {},
   "outputs": [],
   "source": [
    "dataset6 = dataset6.dropna(axis=0, subset=['Date'])"
   ]
  },
  {
   "cell_type": "code",
   "execution_count": 34,
   "metadata": {},
   "outputs": [
    {
     "data": {
      "text/html": [
       "<div>\n",
       "<style scoped>\n",
       "    .dataframe tbody tr th:only-of-type {\n",
       "        vertical-align: middle;\n",
       "    }\n",
       "\n",
       "    .dataframe tbody tr th {\n",
       "        vertical-align: top;\n",
       "    }\n",
       "\n",
       "    .dataframe thead th {\n",
       "        text-align: right;\n",
       "    }\n",
       "</style>\n",
       "<table border=\"1\" class=\"dataframe\">\n",
       "  <thead>\n",
       "    <tr style=\"text-align: right;\">\n",
       "      <th></th>\n",
       "      <th>Date</th>\n",
       "      <th>CardID</th>\n",
       "      <th>Month</th>\n",
       "      <th>Day</th>\n",
       "    </tr>\n",
       "  </thead>\n",
       "  <tbody>\n",
       "    <tr>\n",
       "      <th>0</th>\n",
       "      <td>2013-01-02</td>\n",
       "      <td>30823.0</td>\n",
       "      <td>1.0</td>\n",
       "      <td>2.0</td>\n",
       "    </tr>\n",
       "    <tr>\n",
       "      <th>5</th>\n",
       "      <td>2013-01-02</td>\n",
       "      <td>45354.0</td>\n",
       "      <td>1.0</td>\n",
       "      <td>2.0</td>\n",
       "    </tr>\n",
       "    <tr>\n",
       "      <th>8</th>\n",
       "      <td>2013-01-02</td>\n",
       "      <td>12690.0</td>\n",
       "      <td>1.0</td>\n",
       "      <td>2.0</td>\n",
       "    </tr>\n",
       "    <tr>\n",
       "      <th>12</th>\n",
       "      <td>2013-01-02</td>\n",
       "      <td>22091.0</td>\n",
       "      <td>1.0</td>\n",
       "      <td>2.0</td>\n",
       "    </tr>\n",
       "    <tr>\n",
       "      <th>14</th>\n",
       "      <td>2013-01-02</td>\n",
       "      <td>17903.0</td>\n",
       "      <td>1.0</td>\n",
       "      <td>2.0</td>\n",
       "    </tr>\n",
       "    <tr>\n",
       "      <th>16</th>\n",
       "      <td>2013-01-02</td>\n",
       "      <td>19342.0</td>\n",
       "      <td>1.0</td>\n",
       "      <td>2.0</td>\n",
       "    </tr>\n",
       "    <tr>\n",
       "      <th>20</th>\n",
       "      <td>2013-01-02</td>\n",
       "      <td>28891.0</td>\n",
       "      <td>1.0</td>\n",
       "      <td>2.0</td>\n",
       "    </tr>\n",
       "    <tr>\n",
       "      <th>21</th>\n",
       "      <td>2013-01-02</td>\n",
       "      <td>82330.0</td>\n",
       "      <td>1.0</td>\n",
       "      <td>2.0</td>\n",
       "    </tr>\n",
       "    <tr>\n",
       "      <th>23</th>\n",
       "      <td>2013-01-02</td>\n",
       "      <td>11783.0</td>\n",
       "      <td>1.0</td>\n",
       "      <td>2.0</td>\n",
       "    </tr>\n",
       "    <tr>\n",
       "      <th>24</th>\n",
       "      <td>2013-01-02</td>\n",
       "      <td>85852.0</td>\n",
       "      <td>1.0</td>\n",
       "      <td>2.0</td>\n",
       "    </tr>\n",
       "    <tr>\n",
       "      <th>26</th>\n",
       "      <td>2013-01-02</td>\n",
       "      <td>5811.0</td>\n",
       "      <td>1.0</td>\n",
       "      <td>2.0</td>\n",
       "    </tr>\n",
       "    <tr>\n",
       "      <th>28</th>\n",
       "      <td>2013-01-02</td>\n",
       "      <td>93331.0</td>\n",
       "      <td>1.0</td>\n",
       "      <td>2.0</td>\n",
       "    </tr>\n",
       "    <tr>\n",
       "      <th>29</th>\n",
       "      <td>2013-01-02</td>\n",
       "      <td>63360.0</td>\n",
       "      <td>1.0</td>\n",
       "      <td>2.0</td>\n",
       "    </tr>\n",
       "    <tr>\n",
       "      <th>30</th>\n",
       "      <td>2013-01-02</td>\n",
       "      <td>19319.0</td>\n",
       "      <td>1.0</td>\n",
       "      <td>2.0</td>\n",
       "    </tr>\n",
       "    <tr>\n",
       "      <th>32</th>\n",
       "      <td>2013-01-02</td>\n",
       "      <td>27630.0</td>\n",
       "      <td>1.0</td>\n",
       "      <td>2.0</td>\n",
       "    </tr>\n",
       "    <tr>\n",
       "      <th>35</th>\n",
       "      <td>2013-01-02</td>\n",
       "      <td>82730.0</td>\n",
       "      <td>1.0</td>\n",
       "      <td>2.0</td>\n",
       "    </tr>\n",
       "    <tr>\n",
       "      <th>37</th>\n",
       "      <td>2013-01-02</td>\n",
       "      <td>40931.0</td>\n",
       "      <td>1.0</td>\n",
       "      <td>2.0</td>\n",
       "    </tr>\n",
       "    <tr>\n",
       "      <th>39</th>\n",
       "      <td>2013-01-02</td>\n",
       "      <td>38972.0</td>\n",
       "      <td>1.0</td>\n",
       "      <td>2.0</td>\n",
       "    </tr>\n",
       "    <tr>\n",
       "      <th>41</th>\n",
       "      <td>2013-01-02</td>\n",
       "      <td>22192.0</td>\n",
       "      <td>1.0</td>\n",
       "      <td>2.0</td>\n",
       "    </tr>\n",
       "    <tr>\n",
       "      <th>42</th>\n",
       "      <td>2013-01-02</td>\n",
       "      <td>96691.0</td>\n",
       "      <td>1.0</td>\n",
       "      <td>2.0</td>\n",
       "    </tr>\n",
       "    <tr>\n",
       "      <th>43</th>\n",
       "      <td>2013-01-02</td>\n",
       "      <td>48330.0</td>\n",
       "      <td>1.0</td>\n",
       "      <td>2.0</td>\n",
       "    </tr>\n",
       "    <tr>\n",
       "      <th>45</th>\n",
       "      <td>2013-01-02</td>\n",
       "      <td>91153.0</td>\n",
       "      <td>1.0</td>\n",
       "      <td>2.0</td>\n",
       "    </tr>\n",
       "    <tr>\n",
       "      <th>46</th>\n",
       "      <td>2013-01-02</td>\n",
       "      <td>18254.0</td>\n",
       "      <td>1.0</td>\n",
       "      <td>2.0</td>\n",
       "    </tr>\n",
       "    <tr>\n",
       "      <th>56</th>\n",
       "      <td>2013-01-02</td>\n",
       "      <td>23802.0</td>\n",
       "      <td>1.0</td>\n",
       "      <td>2.0</td>\n",
       "    </tr>\n",
       "    <tr>\n",
       "      <th>57</th>\n",
       "      <td>2013-01-02</td>\n",
       "      <td>1261.0</td>\n",
       "      <td>1.0</td>\n",
       "      <td>2.0</td>\n",
       "    </tr>\n",
       "    <tr>\n",
       "      <th>60</th>\n",
       "      <td>2013-01-02</td>\n",
       "      <td>82522.0</td>\n",
       "      <td>1.0</td>\n",
       "      <td>2.0</td>\n",
       "    </tr>\n",
       "    <tr>\n",
       "      <th>62</th>\n",
       "      <td>2013-01-02</td>\n",
       "      <td>22330.0</td>\n",
       "      <td>1.0</td>\n",
       "      <td>2.0</td>\n",
       "    </tr>\n",
       "    <tr>\n",
       "      <th>63</th>\n",
       "      <td>2013-01-02</td>\n",
       "      <td>102921.0</td>\n",
       "      <td>1.0</td>\n",
       "      <td>2.0</td>\n",
       "    </tr>\n",
       "    <tr>\n",
       "      <th>65</th>\n",
       "      <td>2013-01-02</td>\n",
       "      <td>62553.0</td>\n",
       "      <td>1.0</td>\n",
       "      <td>2.0</td>\n",
       "    </tr>\n",
       "    <tr>\n",
       "      <th>66</th>\n",
       "      <td>2013-01-02</td>\n",
       "      <td>41631.0</td>\n",
       "      <td>1.0</td>\n",
       "      <td>2.0</td>\n",
       "    </tr>\n",
       "    <tr>\n",
       "      <th>...</th>\n",
       "      <td>...</td>\n",
       "      <td>...</td>\n",
       "      <td>...</td>\n",
       "      <td>...</td>\n",
       "    </tr>\n",
       "    <tr>\n",
       "      <th>806</th>\n",
       "      <td>2013-01-02</td>\n",
       "      <td>120010.0</td>\n",
       "      <td>1.0</td>\n",
       "      <td>2.0</td>\n",
       "    </tr>\n",
       "    <tr>\n",
       "      <th>810</th>\n",
       "      <td>2013-01-02</td>\n",
       "      <td>60651.0</td>\n",
       "      <td>1.0</td>\n",
       "      <td>2.0</td>\n",
       "    </tr>\n",
       "    <tr>\n",
       "      <th>812</th>\n",
       "      <td>2013-01-02</td>\n",
       "      <td>30501.0</td>\n",
       "      <td>1.0</td>\n",
       "      <td>2.0</td>\n",
       "    </tr>\n",
       "    <tr>\n",
       "      <th>813</th>\n",
       "      <td>2013-01-02</td>\n",
       "      <td>85551.0</td>\n",
       "      <td>1.0</td>\n",
       "      <td>2.0</td>\n",
       "    </tr>\n",
       "    <tr>\n",
       "      <th>818</th>\n",
       "      <td>2013-01-02</td>\n",
       "      <td>34513.0</td>\n",
       "      <td>1.0</td>\n",
       "      <td>2.0</td>\n",
       "    </tr>\n",
       "    <tr>\n",
       "      <th>821</th>\n",
       "      <td>2013-01-02</td>\n",
       "      <td>80642.0</td>\n",
       "      <td>1.0</td>\n",
       "      <td>2.0</td>\n",
       "    </tr>\n",
       "    <tr>\n",
       "      <th>823</th>\n",
       "      <td>2013-01-02</td>\n",
       "      <td>44701.0</td>\n",
       "      <td>1.0</td>\n",
       "      <td>2.0</td>\n",
       "    </tr>\n",
       "    <tr>\n",
       "      <th>825</th>\n",
       "      <td>2013-01-02</td>\n",
       "      <td>56682.0</td>\n",
       "      <td>1.0</td>\n",
       "      <td>2.0</td>\n",
       "    </tr>\n",
       "    <tr>\n",
       "      <th>828</th>\n",
       "      <td>2013-01-02</td>\n",
       "      <td>111241.0</td>\n",
       "      <td>1.0</td>\n",
       "      <td>2.0</td>\n",
       "    </tr>\n",
       "    <tr>\n",
       "      <th>829</th>\n",
       "      <td>2013-01-02</td>\n",
       "      <td>43370.0</td>\n",
       "      <td>1.0</td>\n",
       "      <td>2.0</td>\n",
       "    </tr>\n",
       "    <tr>\n",
       "      <th>167100</th>\n",
       "      <td>2013-01-02</td>\n",
       "      <td>87601.0</td>\n",
       "      <td>1.0</td>\n",
       "      <td>2.0</td>\n",
       "    </tr>\n",
       "    <tr>\n",
       "      <th>167102</th>\n",
       "      <td>2013-01-02</td>\n",
       "      <td>20593.0</td>\n",
       "      <td>1.0</td>\n",
       "      <td>2.0</td>\n",
       "    </tr>\n",
       "    <tr>\n",
       "      <th>167103</th>\n",
       "      <td>2013-01-02</td>\n",
       "      <td>80932.0</td>\n",
       "      <td>1.0</td>\n",
       "      <td>2.0</td>\n",
       "    </tr>\n",
       "    <tr>\n",
       "      <th>167106</th>\n",
       "      <td>2013-01-02</td>\n",
       "      <td>94372.0</td>\n",
       "      <td>1.0</td>\n",
       "      <td>2.0</td>\n",
       "    </tr>\n",
       "    <tr>\n",
       "      <th>167109</th>\n",
       "      <td>2013-01-02</td>\n",
       "      <td>108503.0</td>\n",
       "      <td>1.0</td>\n",
       "      <td>2.0</td>\n",
       "    </tr>\n",
       "    <tr>\n",
       "      <th>167111</th>\n",
       "      <td>2013-01-02</td>\n",
       "      <td>54960.0</td>\n",
       "      <td>1.0</td>\n",
       "      <td>2.0</td>\n",
       "    </tr>\n",
       "    <tr>\n",
       "      <th>167113</th>\n",
       "      <td>2013-01-02</td>\n",
       "      <td>13190.0</td>\n",
       "      <td>1.0</td>\n",
       "      <td>2.0</td>\n",
       "    </tr>\n",
       "    <tr>\n",
       "      <th>167115</th>\n",
       "      <td>2013-01-02</td>\n",
       "      <td>37470.0</td>\n",
       "      <td>1.0</td>\n",
       "      <td>2.0</td>\n",
       "    </tr>\n",
       "    <tr>\n",
       "      <th>167117</th>\n",
       "      <td>2013-01-02</td>\n",
       "      <td>126801.0</td>\n",
       "      <td>1.0</td>\n",
       "      <td>2.0</td>\n",
       "    </tr>\n",
       "    <tr>\n",
       "      <th>167119</th>\n",
       "      <td>2013-01-02</td>\n",
       "      <td>105012.0</td>\n",
       "      <td>1.0</td>\n",
       "      <td>2.0</td>\n",
       "    </tr>\n",
       "    <tr>\n",
       "      <th>167120</th>\n",
       "      <td>2013-01-02</td>\n",
       "      <td>36402.0</td>\n",
       "      <td>1.0</td>\n",
       "      <td>2.0</td>\n",
       "    </tr>\n",
       "    <tr>\n",
       "      <th>167122</th>\n",
       "      <td>2013-01-02</td>\n",
       "      <td>17131.0</td>\n",
       "      <td>1.0</td>\n",
       "      <td>2.0</td>\n",
       "    </tr>\n",
       "    <tr>\n",
       "      <th>167124</th>\n",
       "      <td>2013-01-02</td>\n",
       "      <td>89435.0</td>\n",
       "      <td>1.0</td>\n",
       "      <td>2.0</td>\n",
       "    </tr>\n",
       "    <tr>\n",
       "      <th>167126</th>\n",
       "      <td>2013-01-02</td>\n",
       "      <td>120110.0</td>\n",
       "      <td>1.0</td>\n",
       "      <td>2.0</td>\n",
       "    </tr>\n",
       "    <tr>\n",
       "      <th>167129</th>\n",
       "      <td>2013-01-02</td>\n",
       "      <td>120121.0</td>\n",
       "      <td>1.0</td>\n",
       "      <td>2.0</td>\n",
       "    </tr>\n",
       "    <tr>\n",
       "      <th>167132</th>\n",
       "      <td>2013-01-02</td>\n",
       "      <td>45001.0</td>\n",
       "      <td>1.0</td>\n",
       "      <td>2.0</td>\n",
       "    </tr>\n",
       "    <tr>\n",
       "      <th>167134</th>\n",
       "      <td>2013-01-02</td>\n",
       "      <td>36471.0</td>\n",
       "      <td>1.0</td>\n",
       "      <td>2.0</td>\n",
       "    </tr>\n",
       "    <tr>\n",
       "      <th>167135</th>\n",
       "      <td>2013-01-02</td>\n",
       "      <td>42952.0</td>\n",
       "      <td>1.0</td>\n",
       "      <td>2.0</td>\n",
       "    </tr>\n",
       "    <tr>\n",
       "      <th>167136</th>\n",
       "      <td>2013-01-02</td>\n",
       "      <td>10267.0</td>\n",
       "      <td>1.0</td>\n",
       "      <td>2.0</td>\n",
       "    </tr>\n",
       "    <tr>\n",
       "      <th>167139</th>\n",
       "      <td>2013-01-02</td>\n",
       "      <td>12342.0</td>\n",
       "      <td>1.0</td>\n",
       "      <td>2.0</td>\n",
       "    </tr>\n",
       "  </tbody>\n",
       "</table>\n",
       "<p>307 rows × 4 columns</p>\n",
       "</div>"
      ],
      "text/plain": [
       "             Date    CardID  Month  Day\n",
       "0      2013-01-02   30823.0    1.0  2.0\n",
       "5      2013-01-02   45354.0    1.0  2.0\n",
       "8      2013-01-02   12690.0    1.0  2.0\n",
       "12     2013-01-02   22091.0    1.0  2.0\n",
       "14     2013-01-02   17903.0    1.0  2.0\n",
       "16     2013-01-02   19342.0    1.0  2.0\n",
       "20     2013-01-02   28891.0    1.0  2.0\n",
       "21     2013-01-02   82330.0    1.0  2.0\n",
       "23     2013-01-02   11783.0    1.0  2.0\n",
       "24     2013-01-02   85852.0    1.0  2.0\n",
       "26     2013-01-02    5811.0    1.0  2.0\n",
       "28     2013-01-02   93331.0    1.0  2.0\n",
       "29     2013-01-02   63360.0    1.0  2.0\n",
       "30     2013-01-02   19319.0    1.0  2.0\n",
       "32     2013-01-02   27630.0    1.0  2.0\n",
       "35     2013-01-02   82730.0    1.0  2.0\n",
       "37     2013-01-02   40931.0    1.0  2.0\n",
       "39     2013-01-02   38972.0    1.0  2.0\n",
       "41     2013-01-02   22192.0    1.0  2.0\n",
       "42     2013-01-02   96691.0    1.0  2.0\n",
       "43     2013-01-02   48330.0    1.0  2.0\n",
       "45     2013-01-02   91153.0    1.0  2.0\n",
       "46     2013-01-02   18254.0    1.0  2.0\n",
       "56     2013-01-02   23802.0    1.0  2.0\n",
       "57     2013-01-02    1261.0    1.0  2.0\n",
       "60     2013-01-02   82522.0    1.0  2.0\n",
       "62     2013-01-02   22330.0    1.0  2.0\n",
       "63     2013-01-02  102921.0    1.0  2.0\n",
       "65     2013-01-02   62553.0    1.0  2.0\n",
       "66     2013-01-02   41631.0    1.0  2.0\n",
       "...           ...       ...    ...  ...\n",
       "806    2013-01-02  120010.0    1.0  2.0\n",
       "810    2013-01-02   60651.0    1.0  2.0\n",
       "812    2013-01-02   30501.0    1.0  2.0\n",
       "813    2013-01-02   85551.0    1.0  2.0\n",
       "818    2013-01-02   34513.0    1.0  2.0\n",
       "821    2013-01-02   80642.0    1.0  2.0\n",
       "823    2013-01-02   44701.0    1.0  2.0\n",
       "825    2013-01-02   56682.0    1.0  2.0\n",
       "828    2013-01-02  111241.0    1.0  2.0\n",
       "829    2013-01-02   43370.0    1.0  2.0\n",
       "167100 2013-01-02   87601.0    1.0  2.0\n",
       "167102 2013-01-02   20593.0    1.0  2.0\n",
       "167103 2013-01-02   80932.0    1.0  2.0\n",
       "167106 2013-01-02   94372.0    1.0  2.0\n",
       "167109 2013-01-02  108503.0    1.0  2.0\n",
       "167111 2013-01-02   54960.0    1.0  2.0\n",
       "167113 2013-01-02   13190.0    1.0  2.0\n",
       "167115 2013-01-02   37470.0    1.0  2.0\n",
       "167117 2013-01-02  126801.0    1.0  2.0\n",
       "167119 2013-01-02  105012.0    1.0  2.0\n",
       "167120 2013-01-02   36402.0    1.0  2.0\n",
       "167122 2013-01-02   17131.0    1.0  2.0\n",
       "167124 2013-01-02   89435.0    1.0  2.0\n",
       "167126 2013-01-02  120110.0    1.0  2.0\n",
       "167129 2013-01-02  120121.0    1.0  2.0\n",
       "167132 2013-01-02   45001.0    1.0  2.0\n",
       "167134 2013-01-02   36471.0    1.0  2.0\n",
       "167135 2013-01-02   42952.0    1.0  2.0\n",
       "167136 2013-01-02   10267.0    1.0  2.0\n",
       "167139 2013-01-02   12342.0    1.0  2.0\n",
       "\n",
       "[307 rows x 4 columns]"
      ]
     },
     "execution_count": 34,
     "metadata": {},
     "output_type": "execute_result"
    }
   ],
   "source": [
    "dataset6.loc[dataset6['Date'] ==\"2013-01-02\"]"
   ]
  },
  {
   "cell_type": "code",
   "execution_count": null,
   "metadata": {},
   "outputs": [],
   "source": [
    "for i in range(len(dataset[\"Date\"])):\n",
    "    L.append(print)"
   ]
  },
  {
   "cell_type": "code",
   "execution_count": 36,
   "metadata": {},
   "outputs": [
    {
     "data": {
      "text/plain": [
       "False    307\n",
       "dtype: int64"
      ]
     },
     "execution_count": 36,
     "metadata": {},
     "output_type": "execute_result"
    }
   ],
   "source": [
    "dataset6.loc[dataset6['Date'] ==\"2013-01-02\"].duplicated([\"CardID\"]).value_counts()"
   ]
  },
  {
   "cell_type": "code",
   "execution_count": 35,
   "metadata": {},
   "outputs": [],
   "source": [
    "dataset6 = dataset6.dropna(axis=0, subset=['Date'])"
   ]
  },
  {
   "cell_type": "code",
   "execution_count": null,
   "metadata": {},
   "outputs": [],
   "source": [
    "for i in range(len(d)):\n",
    "    L.append(print (d))"
   ]
  },
  {
   "cell_type": "code",
   "execution_count": null,
   "metadata": {},
   "outputs": [],
   "source": [
    "len(L)"
   ]
  },
  {
   "cell_type": "code",
   "execution_count": 162,
   "metadata": {},
   "outputs": [],
   "source": [
    "dataset6.loc[dataset6['Date'] ==\"2013-01-04\"].drop_duplicates(subset=\"CardID\", keep='first', inplace=False)"
   ]
  },
  {
   "cell_type": "code",
   "execution_count": 161,
   "metadata": {},
   "outputs": [],
   "source": [
    "dataset6.loc[dataset6['Date'] ==\"2013-01-04\"]"
   ]
  },
  {
   "cell_type": "code",
   "execution_count": 163,
   "metadata": {},
   "outputs": [
    {
     "data": {
      "text/plain": [
       "False    286\n",
       "dtype: int64"
      ]
     },
     "execution_count": 163,
     "metadata": {},
     "output_type": "execute_result"
    }
   ],
   "source": [
    "x.duplicated().value_counts()"
   ]
  },
  {
   "cell_type": "code",
   "execution_count": 3,
   "metadata": {},
   "outputs": [],
   "source": [
    "dataset6.groupby(['Month']).count()"
   ]
  },
  {
   "cell_type": "code",
   "execution_count": null,
   "metadata": {},
   "outputs": [],
   "source": []
  }
 ],
 "metadata": {
  "kernelspec": {
   "display_name": "Python 3",
   "language": "python",
   "name": "python3"
  },
  "language_info": {
   "codemirror_mode": {
    "name": "ipython",
    "version": 3
   },
   "file_extension": ".py",
   "mimetype": "text/x-python",
   "name": "python",
   "nbconvert_exporter": "python",
   "pygments_lexer": "ipython3",
   "version": "3.6.7"
  }
 },
 "nbformat": 4,
 "nbformat_minor": 4
}

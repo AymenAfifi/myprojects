{
  "nbformat": 4,
  "nbformat_minor": 0,
  "metadata": {
    "colab": {
      "name": "imageprocessing_dogs_cats_dataset.ipynb",
      "provenance": []
    },
    "kernelspec": {
      "name": "python3",
      "display_name": "Python 3"
    },
    "accelerator": "TPU"
  },
  "cells": [
    {
      "cell_type": "code",
      "metadata": {
        "id": "uOgEov6TMlGu",
        "colab_type": "code",
        "colab": {}
      },
      "source": [
        ""
      ],
      "execution_count": 0,
      "outputs": []
    },
    {
      "cell_type": "code",
      "metadata": {
        "id": "hKN_zKtBMpb1",
        "colab_type": "code",
        "colab": {
          "base_uri": "https://localhost:8080/",
          "height": 128
        },
        "outputId": "6e5f3aea-0910-467e-d93b-be5b1f07cfee"
      },
      "source": [
        "from google.colab import drive\n",
        "drive.mount('/content/drive')"
      ],
      "execution_count": 1,
      "outputs": [
        {
          "output_type": "stream",
          "text": [
            "Go to this URL in a browser: https://accounts.google.com/o/oauth2/auth?client_id=947318989803-6bn6qk8qdgf4n4g3pfee6491hc0brc4i.apps.googleusercontent.com&redirect_uri=urn%3aietf%3awg%3aoauth%3a2.0%3aoob&response_type=code&scope=email%20https%3a%2f%2fwww.googleapis.com%2fauth%2fdocs.test%20https%3a%2f%2fwww.googleapis.com%2fauth%2fdrive%20https%3a%2f%2fwww.googleapis.com%2fauth%2fdrive.photos.readonly%20https%3a%2f%2fwww.googleapis.com%2fauth%2fpeopleapi.readonly\n",
            "\n",
            "Enter your authorization code:\n",
            "··········\n",
            "Mounted at /content/drive\n"
          ],
          "name": "stdout"
        }
      ]
    },
    {
      "cell_type": "code",
      "metadata": {
        "id": "mOsYyeuZNDaG",
        "colab_type": "code",
        "colab": {
          "base_uri": "https://localhost:8080/",
          "height": 1000
        },
        "outputId": "761a38c5-eb65-40e5-dda8-884e5b980f72"
      },
      "source": [
        "\n",
        "\n",
        "# Building the CNN\n",
        "\n",
        "from keras.models import Sequential\n",
        "from keras.layers import Convolution2D\n",
        "from keras.layers import MaxPooling2D\n",
        "from keras.layers import Flatten\n",
        "from keras.layers import Dense\n",
        "\n",
        "# Initialising the CNN\n",
        "classifier = Sequential()\n",
        "\n",
        "# Step 1 - Convolution\n",
        "classifier.add(Convolution2D(32, 3, 3, input_shape = (64, 64, 3), activation = 'relu'))\n",
        "\n",
        "# Step 2 - Pooling\n",
        "classifier.add(MaxPooling2D(pool_size = (2, 2)))\n",
        "\n",
        "# Adding a second convolutional layer\n",
        "classifier.add(Convolution2D(32, 3, 3, activation = 'relu'))\n",
        "classifier.add(MaxPooling2D(pool_size = (2, 2)))\n",
        "\n",
        "# Step 3 - Flattening\n",
        "classifier.add(Flatten())\n",
        "\n",
        "# Step 4 - Full connection\n",
        "classifier.add(Dense(output_dim = 128, activation = 'relu'))\n",
        "classifier.add(Dense(output_dim = 1, activation = 'sigmoid'))\n",
        "\n",
        "# Compiling the CNN\n",
        "classifier.compile(optimizer = 'adam', loss = 'binary_crossentropy', metrics = ['accuracy'])\n",
        "\n",
        "# Part 2 - Fitting the CNN to the images\n",
        "\n",
        "from keras.preprocessing.image import ImageDataGenerator\n",
        "\n",
        "train_datagen = ImageDataGenerator(rescale = 1./255,\n",
        "                                   shear_range = 0.2,\n",
        "                                   zoom_range = 0.2,\n",
        "                                   horizontal_flip = True)\n",
        "\n",
        "test_datagen = ImageDataGenerator(rescale = 1./255)\n",
        "\n",
        "training_set = train_datagen.flow_from_directory('/content/drive/My Drive/b/Convolutional_Neural_Networks/dataset/training_set',\n",
        "                                                 target_size = (64, 64),\n",
        "                                                 batch_size = 32,\n",
        "                                                 class_mode = 'binary')\n",
        "\n",
        "test_set = test_datagen.flow_from_directory('/content/drive/My Drive/b/Convolutional_Neural_Networks/dataset/test_set',\n",
        "                                            target_size = (64, 64),\n",
        "                                            batch_size = 32,\n",
        "                                            class_mode = 'binary')\n",
        "\n",
        "classifier.fit_generator(training_set,\n",
        "                         samples_per_epoch = 8000,\n",
        "                         nb_epoch = 25,\n",
        "                         validation_data = test_set,\n",
        "                         nb_val_samples = 2000)\n"
      ],
      "execution_count": 2,
      "outputs": [
        {
          "output_type": "stream",
          "text": [
            "Using TensorFlow backend.\n"
          ],
          "name": "stderr"
        },
        {
          "output_type": "stream",
          "text": [
            "WARNING:tensorflow:From /usr/local/lib/python3.6/dist-packages/keras/backend/tensorflow_backend.py:66: The name tf.get_default_graph is deprecated. Please use tf.compat.v1.get_default_graph instead.\n",
            "\n",
            "WARNING:tensorflow:From /usr/local/lib/python3.6/dist-packages/keras/backend/tensorflow_backend.py:541: The name tf.placeholder is deprecated. Please use tf.compat.v1.placeholder instead.\n",
            "\n",
            "WARNING:tensorflow:From /usr/local/lib/python3.6/dist-packages/keras/backend/tensorflow_backend.py:4432: The name tf.random_uniform is deprecated. Please use tf.random.uniform instead.\n",
            "\n",
            "WARNING:tensorflow:From /usr/local/lib/python3.6/dist-packages/keras/backend/tensorflow_backend.py:4267: The name tf.nn.max_pool is deprecated. Please use tf.nn.max_pool2d instead.\n",
            "\n",
            "WARNING:tensorflow:From /usr/local/lib/python3.6/dist-packages/keras/optimizers.py:793: The name tf.train.Optimizer is deprecated. Please use tf.compat.v1.train.Optimizer instead.\n",
            "\n",
            "WARNING:tensorflow:From /usr/local/lib/python3.6/dist-packages/keras/backend/tensorflow_backend.py:3657: The name tf.log is deprecated. Please use tf.math.log instead.\n",
            "\n",
            "WARNING:tensorflow:From /usr/local/lib/python3.6/dist-packages/tensorflow_core/python/ops/nn_impl.py:183: where (from tensorflow.python.ops.array_ops) is deprecated and will be removed in a future version.\n",
            "Instructions for updating:\n",
            "Use tf.where in 2.0, which has the same broadcast rule as np.where\n"
          ],
          "name": "stdout"
        },
        {
          "output_type": "stream",
          "text": [
            "/usr/local/lib/python3.6/dist-packages/ipykernel_launcher.py:12: UserWarning: Update your `Conv2D` call to the Keras 2 API: `Conv2D(32, (3, 3), input_shape=(64, 64, 3..., activation=\"relu\")`\n",
            "  if sys.path[0] == '':\n",
            "/usr/local/lib/python3.6/dist-packages/ipykernel_launcher.py:18: UserWarning: Update your `Conv2D` call to the Keras 2 API: `Conv2D(32, (3, 3), activation=\"relu\")`\n",
            "/usr/local/lib/python3.6/dist-packages/ipykernel_launcher.py:25: UserWarning: Update your `Dense` call to the Keras 2 API: `Dense(activation=\"relu\", units=128)`\n",
            "/usr/local/lib/python3.6/dist-packages/ipykernel_launcher.py:26: UserWarning: Update your `Dense` call to the Keras 2 API: `Dense(activation=\"sigmoid\", units=1)`\n"
          ],
          "name": "stderr"
        },
        {
          "output_type": "stream",
          "text": [
            "Found 8000 images belonging to 2 classes.\n",
            "Found 2000 images belonging to 2 classes.\n",
            "WARNING:tensorflow:From /usr/local/lib/python3.6/dist-packages/keras/backend/tensorflow_backend.py:1033: The name tf.assign_add is deprecated. Please use tf.compat.v1.assign_add instead.\n",
            "\n"
          ],
          "name": "stdout"
        },
        {
          "output_type": "stream",
          "text": [
            "/usr/local/lib/python3.6/dist-packages/ipykernel_launcher.py:56: UserWarning: The semantics of the Keras 2 argument `steps_per_epoch` is not the same as the Keras 1 argument `samples_per_epoch`. `steps_per_epoch` is the number of batches to draw from the generator at each epoch. Basically steps_per_epoch = samples_per_epoch/batch_size. Similarly `nb_val_samples`->`validation_steps` and `val_samples`->`steps` arguments have changed. Update your method calls accordingly.\n",
            "/usr/local/lib/python3.6/dist-packages/ipykernel_launcher.py:56: UserWarning: Update your `fit_generator` call to the Keras 2 API: `fit_generator(<keras_pre..., validation_data=<keras_pre..., steps_per_epoch=250, epochs=25, validation_steps=2000)`\n"
          ],
          "name": "stderr"
        },
        {
          "output_type": "stream",
          "text": [
            "WARNING:tensorflow:From /usr/local/lib/python3.6/dist-packages/keras/backend/tensorflow_backend.py:1020: The name tf.assign is deprecated. Please use tf.compat.v1.assign instead.\n",
            "\n",
            "WARNING:tensorflow:From /usr/local/lib/python3.6/dist-packages/keras/backend/tensorflow_backend.py:3005: The name tf.Session is deprecated. Please use tf.compat.v1.Session instead.\n",
            "\n",
            "Epoch 1/25\n",
            "WARNING:tensorflow:From /usr/local/lib/python3.6/dist-packages/keras/backend/tensorflow_backend.py:190: The name tf.get_default_session is deprecated. Please use tf.compat.v1.get_default_session instead.\n",
            "\n",
            "WARNING:tensorflow:From /usr/local/lib/python3.6/dist-packages/keras/backend/tensorflow_backend.py:197: The name tf.ConfigProto is deprecated. Please use tf.compat.v1.ConfigProto instead.\n",
            "\n",
            "WARNING:tensorflow:From /usr/local/lib/python3.6/dist-packages/keras/backend/tensorflow_backend.py:207: The name tf.global_variables is deprecated. Please use tf.compat.v1.global_variables instead.\n",
            "\n",
            "WARNING:tensorflow:From /usr/local/lib/python3.6/dist-packages/keras/backend/tensorflow_backend.py:216: The name tf.is_variable_initialized is deprecated. Please use tf.compat.v1.is_variable_initialized instead.\n",
            "\n",
            "WARNING:tensorflow:From /usr/local/lib/python3.6/dist-packages/keras/backend/tensorflow_backend.py:223: The name tf.variables_initializer is deprecated. Please use tf.compat.v1.variables_initializer instead.\n",
            "\n",
            "250/250 [==============================] - 3499s 14s/step - loss: 0.6810 - acc: 0.5660 - val_loss: 0.6651 - val_acc: 0.5990\n",
            "Epoch 2/25\n",
            "250/250 [==============================] - 353s 1s/step - loss: 0.6074 - acc: 0.6709 - val_loss: 0.5691 - val_acc: 0.7132\n",
            "Epoch 3/25\n",
            "250/250 [==============================] - 351s 1s/step - loss: 0.5569 - acc: 0.7179 - val_loss: 0.5302 - val_acc: 0.7493\n",
            "Epoch 4/25\n",
            "250/250 [==============================] - 349s 1s/step - loss: 0.5229 - acc: 0.7386 - val_loss: 0.4965 - val_acc: 0.7690\n",
            "Epoch 5/25\n",
            "250/250 [==============================] - 353s 1s/step - loss: 0.4924 - acc: 0.7548 - val_loss: 0.5398 - val_acc: 0.7416\n",
            "Epoch 6/25\n",
            "250/250 [==============================] - 356s 1s/step - loss: 0.4721 - acc: 0.7760 - val_loss: 0.5029 - val_acc: 0.7555\n",
            "Epoch 7/25\n",
            "250/250 [==============================] - 356s 1s/step - loss: 0.4630 - acc: 0.7794 - val_loss: 0.5431 - val_acc: 0.7479\n",
            "Epoch 8/25\n",
            "250/250 [==============================] - 352s 1s/step - loss: 0.4476 - acc: 0.7935 - val_loss: 0.5020 - val_acc: 0.7670\n",
            "Epoch 9/25\n",
            "250/250 [==============================] - 356s 1s/step - loss: 0.4324 - acc: 0.7997 - val_loss: 0.4730 - val_acc: 0.7860\n",
            "Epoch 10/25\n",
            "250/250 [==============================] - 356s 1s/step - loss: 0.4316 - acc: 0.8016 - val_loss: 0.4538 - val_acc: 0.7964\n",
            "Epoch 11/25\n",
            "250/250 [==============================] - 361s 1s/step - loss: 0.4181 - acc: 0.8071 - val_loss: 0.4675 - val_acc: 0.7762\n",
            "Epoch 12/25\n",
            "250/250 [==============================] - 359s 1s/step - loss: 0.4061 - acc: 0.8126 - val_loss: 0.4585 - val_acc: 0.7971\n",
            "Epoch 13/25\n",
            "250/250 [==============================] - 358s 1s/step - loss: 0.3863 - acc: 0.8244 - val_loss: 0.4539 - val_acc: 0.8051\n",
            "Epoch 14/25\n",
            "250/250 [==============================] - 354s 1s/step - loss: 0.3818 - acc: 0.8251 - val_loss: 0.4588 - val_acc: 0.7954\n",
            "Epoch 15/25\n",
            "250/250 [==============================] - 351s 1s/step - loss: 0.3652 - acc: 0.8380 - val_loss: 0.4550 - val_acc: 0.7986\n",
            "Epoch 16/25\n",
            "250/250 [==============================] - 349s 1s/step - loss: 0.3573 - acc: 0.8416 - val_loss: 0.4722 - val_acc: 0.7868\n",
            "Epoch 17/25\n",
            "250/250 [==============================] - 349s 1s/step - loss: 0.3425 - acc: 0.8442 - val_loss: 0.5238 - val_acc: 0.7846\n",
            "Epoch 18/25\n",
            "250/250 [==============================] - 350s 1s/step - loss: 0.3321 - acc: 0.8530 - val_loss: 0.4348 - val_acc: 0.8111\n",
            "Epoch 19/25\n",
            "250/250 [==============================] - 349s 1s/step - loss: 0.3322 - acc: 0.8534 - val_loss: 0.4304 - val_acc: 0.8074\n",
            "Epoch 20/25\n",
            "250/250 [==============================] - 347s 1s/step - loss: 0.3075 - acc: 0.8659 - val_loss: 0.4579 - val_acc: 0.8031\n",
            "Epoch 21/25\n",
            "250/250 [==============================] - 341s 1s/step - loss: 0.3003 - acc: 0.8717 - val_loss: 0.4528 - val_acc: 0.8116\n",
            "Epoch 22/25\n",
            "250/250 [==============================] - 341s 1s/step - loss: 0.2902 - acc: 0.8764 - val_loss: 0.4583 - val_acc: 0.8088\n",
            "Epoch 23/25\n",
            "250/250 [==============================] - 341s 1s/step - loss: 0.2780 - acc: 0.8832 - val_loss: 0.4762 - val_acc: 0.8191\n",
            "Epoch 24/25\n",
            "250/250 [==============================] - 342s 1s/step - loss: 0.2701 - acc: 0.8871 - val_loss: 0.4701 - val_acc: 0.8074\n",
            "Epoch 25/25\n",
            "250/250 [==============================] - 338s 1s/step - loss: 0.2629 - acc: 0.8889 - val_loss: 0.5403 - val_acc: 0.7874\n"
          ],
          "name": "stdout"
        },
        {
          "output_type": "execute_result",
          "data": {
            "text/plain": [
              "<keras.callbacks.History at 0x7f0b37178fd0>"
            ]
          },
          "metadata": {
            "tags": []
          },
          "execution_count": 2
        }
      ]
    },
    {
      "cell_type": "code",
      "metadata": {
        "id": "s3U8gEQqOHIf",
        "colab_type": "code",
        "colab": {}
      },
      "source": [
        ""
      ],
      "execution_count": 0,
      "outputs": []
    }
  ]
}
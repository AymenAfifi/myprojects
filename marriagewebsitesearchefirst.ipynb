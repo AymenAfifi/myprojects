{
  "nbformat": 4,
  "nbformat_minor": 0,
  "metadata": {
    "kernelspec": {
      "display_name": "Python 3",
      "language": "python",
      "name": "python3"
    },
    "language_info": {
      "codemirror_mode": {
        "name": "ipython",
        "version": 3
      },
      "file_extension": ".py",
      "mimetype": "text/x-python",
      "name": "python",
      "nbconvert_exporter": "python",
      "pygments_lexer": "ipython3",
      "version": "3.6.7"
    },
    "colab": {
      "name": "marriage.ipynb",
      "provenance": []
    }
  },
  "cells": [
    {
      "cell_type": "code",
      "metadata": {
        "id": "RN2KlWQWL0PT",
        "colab_type": "code",
        "colab": {}
      },
      "source": [
        "import pandas as pd"
      ],
      "execution_count": 0,
      "outputs": []
    },
    {
      "cell_type": "code",
      "metadata": {
        "id": "-jiMQqyPL0PW",
        "colab_type": "code",
        "colab": {}
      },
      "source": [
        "data=pd.read_csv(\"bdmarriage.csv\",sep=\",\")"
      ],
      "execution_count": 0,
      "outputs": []
    },
    {
      "cell_type": "code",
      "metadata": {
        "id": "JT3HlkTVL0PY",
        "colab_type": "code",
        "colab": {
          "base_uri": "https://localhost:8080/",
          "height": 297
        },
        "outputId": "f9e753b1-5c99-4b71-f777-c68fcad39ae1"
      },
      "source": [
        "data"
      ],
      "execution_count": 112,
      "outputs": [
        {
          "output_type": "execute_result",
          "data": {
            "text/html": [
              "<div>\n",
              "<style scoped>\n",
              "    .dataframe tbody tr th:only-of-type {\n",
              "        vertical-align: middle;\n",
              "    }\n",
              "\n",
              "    .dataframe tbody tr th {\n",
              "        vertical-align: top;\n",
              "    }\n",
              "\n",
              "    .dataframe thead th {\n",
              "        text-align: right;\n",
              "    }\n",
              "</style>\n",
              "<table border=\"1\" class=\"dataframe\">\n",
              "  <thead>\n",
              "    <tr style=\"text-align: right;\">\n",
              "      <th></th>\n",
              "      <th>id</th>\n",
              "      <th>service</th>\n",
              "      <th>adresse</th>\n",
              "      <th>type</th>\n",
              "      <th>prix</th>\n",
              "    </tr>\n",
              "  </thead>\n",
              "  <tbody>\n",
              "    <tr>\n",
              "      <th>0</th>\n",
              "      <td>salleriahi</td>\n",
              "      <td>sallefete</td>\n",
              "      <td>ariana</td>\n",
              "      <td>ouvert</td>\n",
              "      <td>2000</td>\n",
              "    </tr>\n",
              "    <tr>\n",
              "      <th>1</th>\n",
              "      <td>sallemonta</td>\n",
              "      <td>sallefete</td>\n",
              "      <td>ariana</td>\n",
              "      <td>ferme</td>\n",
              "      <td>1500</td>\n",
              "    </tr>\n",
              "    <tr>\n",
              "      <th>2</th>\n",
              "      <td>sallehamma</td>\n",
              "      <td>sallefete</td>\n",
              "      <td>tunis</td>\n",
              "      <td>ouvert</td>\n",
              "      <td>2500</td>\n",
              "    </tr>\n",
              "    <tr>\n",
              "      <th>3</th>\n",
              "      <td>sallenessma</td>\n",
              "      <td>sallefete</td>\n",
              "      <td>tunis</td>\n",
              "      <td>ferme</td>\n",
              "      <td>1700</td>\n",
              "    </tr>\n",
              "    <tr>\n",
              "      <th>4</th>\n",
              "      <td>groupriahi</td>\n",
              "      <td>animation</td>\n",
              "      <td>ariana</td>\n",
              "      <td>bande</td>\n",
              "      <td>400</td>\n",
              "    </tr>\n",
              "    <tr>\n",
              "      <th>5</th>\n",
              "      <td>groupmonta</td>\n",
              "      <td>animation</td>\n",
              "      <td>tunis</td>\n",
              "      <td>bande</td>\n",
              "      <td>600</td>\n",
              "    </tr>\n",
              "    <tr>\n",
              "      <th>6</th>\n",
              "      <td>hamma</td>\n",
              "      <td>animation</td>\n",
              "      <td>ariana</td>\n",
              "      <td>danse</td>\n",
              "      <td>400</td>\n",
              "    </tr>\n",
              "    <tr>\n",
              "      <th>7</th>\n",
              "      <td>nassim</td>\n",
              "      <td>animation</td>\n",
              "      <td>ariana</td>\n",
              "      <td>dj</td>\n",
              "      <td>550</td>\n",
              "    </tr>\n",
              "  </tbody>\n",
              "</table>\n",
              "</div>"
            ],
            "text/plain": [
              "            id    service adresse    type  prix\n",
              "0   salleriahi  sallefete  ariana  ouvert  2000\n",
              "1   sallemonta  sallefete  ariana   ferme  1500\n",
              "2   sallehamma  sallefete   tunis  ouvert  2500\n",
              "3  sallenessma  sallefete   tunis   ferme  1700\n",
              "4   groupriahi  animation  ariana   bande   400\n",
              "5   groupmonta  animation   tunis   bande   600\n",
              "6        hamma  animation  ariana   danse   400\n",
              "7       nassim  animation  ariana      dj   550"
            ]
          },
          "metadata": {
            "tags": []
          },
          "execution_count": 112
        }
      ]
    },
    {
      "cell_type": "code",
      "metadata": {
        "id": "6ZVHHf77OL13",
        "colab_type": "code",
        "colab": {}
      },
      "source": [
        "liste = [\"1=   b<2500         \",\n",
        "         \"2=   2500<b<2700    \",\n",
        "         \"3=   2700<b         \"\n",
        "         ]"
      ],
      "execution_count": 0,
      "outputs": []
    },
    {
      "cell_type": "code",
      "metadata": {
        "id": "A7K5n4jvPcnN",
        "colab_type": "code",
        "colab": {
          "base_uri": "https://localhost:8080/",
          "height": 34
        },
        "outputId": "61f60210-a07b-4cb7-9747-da30455bafa9"
      },
      "source": [
        "print (liste)"
      ],
      "execution_count": 114,
      "outputs": [
        {
          "output_type": "stream",
          "text": [
            "['1=   b<2500         ', '2=   2500<b<2700    ', '3=   2700<b         ']\n"
          ],
          "name": "stdout"
        }
      ]
    },
    {
      "cell_type": "code",
      "metadata": {
        "id": "YKYh9TP9L0Pb",
        "colab_type": "code",
        "colab": {
          "base_uri": "https://localhost:8080/",
          "height": 238
        },
        "outputId": "37acc6f4-4340-4e84-ca0e-a2bcd2138bfd"
      },
      "source": [
        "print(\"Vous voulez une salle de fete ? oui/non\")\n",
        "x = input()\n",
        "if x==\"oui\" :\n",
        "    print(\"merci de choisir le lieu parmis ces entrees:ariana,tunis,mannouba\")\n",
        "    adressesalle=input()\n",
        "    print(\"merci de choisir le type : ouvert/ferme\")\n",
        "    typesalle=input()\n",
        "\n",
        "print(\"Voulez vous une animation ? oui/non\")\n",
        "y = input()\n",
        "if y==\"oui\" :\n",
        "    print(\"merci de choisir le genre d'animation:bande,dj,danse\")\n",
        "    adresseanimation=input()\n",
        "\n",
        "print(\"Quel est votre budget?  merci d'entrer 1 , 2 ou 3\")\n",
        "print(liste)\n",
        "z=input()\n",
        "\n"
      ],
      "execution_count": 115,
      "outputs": [
        {
          "output_type": "stream",
          "text": [
            "Vous voulez une salle de fete ? oui/non\n",
            "oui\n",
            "merci de choisir le lieu parmis ces entrees:ariana,tunis,mannouba\n",
            "ariana\n",
            "merci de choisir le type : ouvert/ferme\n",
            "ouvert\n",
            "Voulez vous une animation ? oui/non\n",
            "oui\n",
            "merci de choisir le genre d'animation:bande,dj,danse\n",
            "bande\n",
            "Quel est votre budget?  merci d'entrer 1 , 2 ou 3\n",
            "['1=   b<2500         ', '2=   2500<b<2700    ', '3=   2700<b         ']\n",
            "1\n"
          ],
          "name": "stdout"
        }
      ]
    },
    {
      "cell_type": "code",
      "metadata": {
        "id": "uImRlmXpL0Pe",
        "colab_type": "code",
        "colab": {}
      },
      "source": [
        "df1=pd.DataFrame()\n",
        "df2=pd.DataFrame()\n",
        "if x==\"oui\":\n",
        "  df1=data.loc[(data[\"service\"] == 'sallefete')&(data[\"adresse\"] == adressesalle)&(data[\"type\"] == typesalle)]\n",
        "\n",
        "if y==\"oui\":\n",
        "  df2=data.loc[(data[\"service\"] == \"animation\")&(data[\"type\"]== adresseanimation)]\n",
        "\n"
      ],
      "execution_count": 0,
      "outputs": []
    },
    {
      "cell_type": "code",
      "metadata": {
        "id": "WbJPJHPTsSCR",
        "colab_type": "code",
        "colab": {
          "base_uri": "https://localhost:8080/",
          "height": 34
        },
        "outputId": "134f17b1-3253-4a50-8442-ca727f7d275a"
      },
      "source": [
        "z"
      ],
      "execution_count": 138,
      "outputs": [
        {
          "output_type": "execute_result",
          "data": {
            "text/plain": [
              "'1'"
            ]
          },
          "metadata": {
            "tags": []
          },
          "execution_count": 138
        }
      ]
    },
    {
      "cell_type": "code",
      "metadata": {
        "id": "mNLnupeNUvOK",
        "colab_type": "code",
        "colab": {
          "base_uri": "https://localhost:8080/",
          "height": 80
        },
        "outputId": "d0c1af46-b952-4651-f566-d1fe8c39c685"
      },
      "source": [
        "df1"
      ],
      "execution_count": 126,
      "outputs": [
        {
          "output_type": "execute_result",
          "data": {
            "text/html": [
              "<div>\n",
              "<style scoped>\n",
              "    .dataframe tbody tr th:only-of-type {\n",
              "        vertical-align: middle;\n",
              "    }\n",
              "\n",
              "    .dataframe tbody tr th {\n",
              "        vertical-align: top;\n",
              "    }\n",
              "\n",
              "    .dataframe thead th {\n",
              "        text-align: right;\n",
              "    }\n",
              "</style>\n",
              "<table border=\"1\" class=\"dataframe\">\n",
              "  <thead>\n",
              "    <tr style=\"text-align: right;\">\n",
              "      <th></th>\n",
              "      <th>id</th>\n",
              "      <th>service</th>\n",
              "      <th>adresse</th>\n",
              "      <th>type</th>\n",
              "      <th>prix</th>\n",
              "    </tr>\n",
              "  </thead>\n",
              "  <tbody>\n",
              "    <tr>\n",
              "      <th>0</th>\n",
              "      <td>salleriahi</td>\n",
              "      <td>sallefete</td>\n",
              "      <td>ariana</td>\n",
              "      <td>ouvert</td>\n",
              "      <td>2000</td>\n",
              "    </tr>\n",
              "  </tbody>\n",
              "</table>\n",
              "</div>"
            ],
            "text/plain": [
              "           id    service adresse    type  prix\n",
              "0  salleriahi  sallefete  ariana  ouvert  2000"
            ]
          },
          "metadata": {
            "tags": []
          },
          "execution_count": 126
        }
      ]
    },
    {
      "cell_type": "code",
      "metadata": {
        "id": "yuDHXQYVeAUe",
        "colab_type": "code",
        "colab": {
          "base_uri": "https://localhost:8080/",
          "height": 111
        },
        "outputId": "350da9a4-68df-4e67-ad84-35438822b1e1"
      },
      "source": [
        "df2"
      ],
      "execution_count": 127,
      "outputs": [
        {
          "output_type": "execute_result",
          "data": {
            "text/html": [
              "<div>\n",
              "<style scoped>\n",
              "    .dataframe tbody tr th:only-of-type {\n",
              "        vertical-align: middle;\n",
              "    }\n",
              "\n",
              "    .dataframe tbody tr th {\n",
              "        vertical-align: top;\n",
              "    }\n",
              "\n",
              "    .dataframe thead th {\n",
              "        text-align: right;\n",
              "    }\n",
              "</style>\n",
              "<table border=\"1\" class=\"dataframe\">\n",
              "  <thead>\n",
              "    <tr style=\"text-align: right;\">\n",
              "      <th></th>\n",
              "      <th>id</th>\n",
              "      <th>service</th>\n",
              "      <th>adresse</th>\n",
              "      <th>type</th>\n",
              "      <th>prix</th>\n",
              "    </tr>\n",
              "  </thead>\n",
              "  <tbody>\n",
              "    <tr>\n",
              "      <th>4</th>\n",
              "      <td>groupriahi</td>\n",
              "      <td>animation</td>\n",
              "      <td>ariana</td>\n",
              "      <td>bande</td>\n",
              "      <td>400</td>\n",
              "    </tr>\n",
              "    <tr>\n",
              "      <th>5</th>\n",
              "      <td>groupmonta</td>\n",
              "      <td>animation</td>\n",
              "      <td>tunis</td>\n",
              "      <td>bande</td>\n",
              "      <td>600</td>\n",
              "    </tr>\n",
              "  </tbody>\n",
              "</table>\n",
              "</div>"
            ],
            "text/plain": [
              "           id    service adresse   type  prix\n",
              "4  groupriahi  animation  ariana  bande   400\n",
              "5  groupmonta  animation   tunis  bande   600"
            ]
          },
          "metadata": {
            "tags": []
          },
          "execution_count": 127
        }
      ]
    },
    {
      "cell_type": "code",
      "metadata": {
        "id": "r3swDQNvfoz-",
        "colab_type": "code",
        "colab": {}
      },
      "source": [
        "L=[]\n",
        "l=[]\n",
        "for i in range(0,len(df1)):\n",
        "  ch1=df1.iloc[i] \n",
        "  for j in range(0,len(df2)):\n",
        "    ch2=df2.iloc[j]\n",
        "    b=ch1[\"prix\"]+ch2[\"prix\"]\n",
        "    if z==\"1\":\n",
        "      if b<2500:\n",
        "        l.append(ch1)\n",
        "        l.append(ch2)\n",
        "        L.append(l)\n",
        "        l=[]\n",
        "    if z==\"2\":\n",
        "      if b<2700:\n",
        "\n",
        "        l.append(ch1)\n",
        "        l.append(ch2)\n",
        "        L.append(l)\n",
        "        l=[]\n",
        "    if z==\"3\":\n",
        "\n",
        "      l.append(ch1)\n",
        "      l.append(ch2)\n",
        "      L.append(l)\n",
        "      l=[]\n",
        "\n",
        "     \n",
        "\n",
        "\n"
      ],
      "execution_count": 0,
      "outputs": []
    },
    {
      "cell_type": "code",
      "metadata": {
        "id": "oioqWadRlmuk",
        "colab_type": "code",
        "colab": {
          "base_uri": "https://localhost:8080/",
          "height": 204
        },
        "outputId": "7af8f425-146c-4e4b-aefd-500c8f8cc0eb"
      },
      "source": [
        "L"
      ],
      "execution_count": 146,
      "outputs": [
        {
          "output_type": "execute_result",
          "data": {
            "text/plain": [
              "[[id         salleriahi\n",
              "  service     sallefete\n",
              "  adresse        ariana\n",
              "  type           ouvert\n",
              "  prix             2000\n",
              "  Name: 0, dtype: object, id         groupriahi\n",
              "  service     animation\n",
              "  adresse        ariana\n",
              "  type            bande\n",
              "  prix              400\n",
              "  Name: 4, dtype: object]]"
            ]
          },
          "metadata": {
            "tags": []
          },
          "execution_count": 146
        }
      ]
    },
    {
      "cell_type": "code",
      "metadata": {
        "id": "sULr-_zFsXrS",
        "colab_type": "code",
        "colab": {}
      },
      "source": [
        ""
      ],
      "execution_count": 0,
      "outputs": []
    }
  ]
}